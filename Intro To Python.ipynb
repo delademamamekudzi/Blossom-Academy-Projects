{
 "cells": [
  {
   "cell_type": "code",
   "execution_count": 3,
   "id": "ef271ccc",
   "metadata": {},
   "outputs": [],
   "source": [
    "#L-5 W-20\n",
    "length = 5\n",
    "width  = 20\n"
   ]
  },
  {
   "cell_type": "code",
   "execution_count": 4,
   "id": "61579674",
   "metadata": {},
   "outputs": [],
   "source": [
    "area = length * width"
   ]
  },
  {
   "cell_type": "code",
   "execution_count": 5,
   "id": "f0623b02",
   "metadata": {
    "scrolled": true
   },
   "outputs": [
    {
     "name": "stdout",
     "output_type": "stream",
     "text": [
      "100\n"
     ]
    }
   ],
   "source": [
    "print(area)"
   ]
  },
  {
   "cell_type": "code",
   "execution_count": 6,
   "id": "27b912e3",
   "metadata": {},
   "outputs": [],
   "source": [
    "# TTr2 r-7 TT -3.14\n",
    "pi = 3.14\n",
    "r=7\n",
    "area_circle = pi*(r**2)"
   ]
  },
  {
   "cell_type": "code",
   "execution_count": 7,
   "id": "c2e495c5",
   "metadata": {},
   "outputs": [
    {
     "name": "stdout",
     "output_type": "stream",
     "text": [
      "153.86\n"
     ]
    }
   ],
   "source": [
    "print(area_circle)"
   ]
  },
  {
   "cell_type": "code",
   "execution_count": 8,
   "id": "486af178",
   "metadata": {},
   "outputs": [],
   "source": [
    "x = round(area_circle,1)"
   ]
  },
  {
   "cell_type": "code",
   "execution_count": 9,
   "id": "9af7f47a",
   "metadata": {},
   "outputs": [],
   "source": [
    "x = 153.9"
   ]
  },
  {
   "cell_type": "code",
   "execution_count": 10,
   "id": "128bc25a",
   "metadata": {},
   "outputs": [
    {
     "name": "stdout",
     "output_type": "stream",
     "text": [
      "153\n"
     ]
    }
   ],
   "source": [
    "y = int(x)\n",
    "print(y)"
   ]
  },
  {
   "cell_type": "code",
   "execution_count": 11,
   "id": "c9c20980",
   "metadata": {},
   "outputs": [],
   "source": [
    "word = \"I love Python Programming\""
   ]
  },
  {
   "cell_type": "code",
   "execution_count": 12,
   "id": "a738a0f0",
   "metadata": {},
   "outputs": [
    {
     "name": "stdout",
     "output_type": "stream",
     "text": [
      "I love Python\n"
     ]
    }
   ],
   "source": [
    "print(word[:13])"
   ]
  },
  {
   "cell_type": "code",
   "execution_count": 13,
   "id": "ff736657",
   "metadata": {},
   "outputs": [
    {
     "name": "stdout",
     "output_type": "stream",
     "text": [
      "ing\n"
     ]
    }
   ],
   "source": [
    "print(word[-3:])"
   ]
  },
  {
   "cell_type": "code",
   "execution_count": 14,
   "id": "4384c999",
   "metadata": {},
   "outputs": [
    {
     "name": "stdout",
     "output_type": "stream",
     "text": [
      "love\n"
     ]
    }
   ],
   "source": [
    "print(word[2:6])"
   ]
  },
  {
   "cell_type": "code",
   "execution_count": 15,
   "id": "b36d6e9a",
   "metadata": {},
   "outputs": [
    {
     "data": {
      "text/plain": [
       "4"
      ]
     },
     "execution_count": 15,
     "metadata": {},
     "output_type": "execute_result"
    }
   ],
   "source": [
    "2+2"
   ]
  },
  {
   "cell_type": "markdown",
   "id": "753bb8f7",
   "metadata": {},
   "source": [
    "Find the area of the the "
   ]
  },
  {
   "cell_type": "markdown",
   "id": "c3756b7d",
   "metadata": {},
   "source": [
    "# Main"
   ]
  },
  {
   "cell_type": "markdown",
   "id": "5499aa84",
   "metadata": {},
   "source": [
    "## Main"
   ]
  },
  {
   "cell_type": "code",
   "execution_count": 16,
   "id": "488a5818",
   "metadata": {},
   "outputs": [
    {
     "name": "stdout",
     "output_type": "stream",
     "text": [
      "Selasi\n"
     ]
    }
   ],
   "source": [
    "# print Selasi\n",
    "print(\"Selasi\")"
   ]
  },
  {
   "cell_type": "code",
   "execution_count": 17,
   "id": "4a40f304",
   "metadata": {},
   "outputs": [
    {
     "name": "stdout",
     "output_type": "stream",
     "text": [
      "What is your name?\n",
      "Deladem\n"
     ]
    }
   ],
   "source": [
    "my_name = input(\"What is your name?\\n\")\n"
   ]
  },
  {
   "cell_type": "code",
   "execution_count": 18,
   "id": "a79cd124",
   "metadata": {},
   "outputs": [
    {
     "name": "stdout",
     "output_type": "stream",
     "text": [
      "Deladem\n"
     ]
    }
   ],
   "source": [
    "print(my_name)"
   ]
  },
  {
   "cell_type": "code",
   "execution_count": 19,
   "id": "aa60e21b",
   "metadata": {},
   "outputs": [],
   "source": [
    "x =7\n",
    "y =23\n",
    "z =20"
   ]
  },
  {
   "cell_type": "code",
   "execution_count": 20,
   "id": "67bdb9f9",
   "metadata": {},
   "outputs": [
    {
     "data": {
      "text/plain": [
       "False"
      ]
     },
     "execution_count": 20,
     "metadata": {},
     "output_type": "execute_result"
    }
   ],
   "source": [
    "x>y and y<z"
   ]
  },
  {
   "cell_type": "code",
   "execution_count": 21,
   "id": "2ad2e541",
   "metadata": {},
   "outputs": [
    {
     "data": {
      "text/plain": [
       "False"
      ]
     },
     "execution_count": 21,
     "metadata": {},
     "output_type": "execute_result"
    }
   ],
   "source": [
    "x>y<z"
   ]
  },
  {
   "cell_type": "code",
   "execution_count": 22,
   "id": "19caa259",
   "metadata": {},
   "outputs": [
    {
     "data": {
      "text/plain": [
       "True"
      ]
     },
     "execution_count": 22,
     "metadata": {},
     "output_type": "execute_result"
    }
   ],
   "source": [
    "x<y or y<z"
   ]
  },
  {
   "cell_type": "code",
   "execution_count": null,
   "id": "954263f7",
   "metadata": {},
   "outputs": [],
   "source": [
    "x>y and y<z\n",
    "#F"
   ]
  }
 ],
 "metadata": {
  "kernelspec": {
   "display_name": "Python 3 (ipykernel)",
   "language": "python",
   "name": "python3"
  },
  "language_info": {
   "codemirror_mode": {
    "name": "ipython",
    "version": 3
   },
   "file_extension": ".py",
   "mimetype": "text/x-python",
   "name": "python",
   "nbconvert_exporter": "python",
   "pygments_lexer": "ipython3",
   "version": "3.9.13"
  }
 },
 "nbformat": 4,
 "nbformat_minor": 5
}
