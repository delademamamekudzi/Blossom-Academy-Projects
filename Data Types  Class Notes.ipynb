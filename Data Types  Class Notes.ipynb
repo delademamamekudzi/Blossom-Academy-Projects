{
 "cells": [
  {
   "cell_type": "markdown",
   "id": "60816213",
   "metadata": {},
   "source": [
    "### The Zen of Python"
   ]
  },
  {
   "cell_type": "markdown",
   "id": "f7608747",
   "metadata": {},
   "source": [
    "The Zen of Python is a collection of guiding principles for writing computer programs in the Python language.\n",
    "\n",
    "The Zen of Python was written by Tim Peters in 1999, and has since become a popular reference for Python developers. \n",
    "\n",
    "Some of the key principles of the Zen of Python include simplicity, readability, and practicality.\n",
    "\n",
    "\n",
    "The Zen of Python is part of the Python language itself, and can be accessed by typing \"import this\" into a Python interpreter."
   ]
  },
  {
   "cell_type": "code",
   "execution_count": 1,
   "id": "3c511be6",
   "metadata": {
    "scrolled": true
   },
   "outputs": [
    {
     "name": "stdout",
     "output_type": "stream",
     "text": [
      "The Zen of Python, by Tim Peters\n",
      "\n",
      "Beautiful is better than ugly.\n",
      "Explicit is better than implicit.\n",
      "Simple is better than complex.\n",
      "Complex is better than complicated.\n",
      "Flat is better than nested.\n",
      "Sparse is better than dense.\n",
      "Readability counts.\n",
      "Special cases aren't special enough to break the rules.\n",
      "Although practicality beats purity.\n",
      "Errors should never pass silently.\n",
      "Unless explicitly silenced.\n",
      "In the face of ambiguity, refuse the temptation to guess.\n",
      "There should be one-- and preferably only one --obvious way to do it.\n",
      "Although that way may not be obvious at first unless you're Dutch.\n",
      "Now is better than never.\n",
      "Although never is often better than *right* now.\n",
      "If the implementation is hard to explain, it's a bad idea.\n",
      "If the implementation is easy to explain, it may be a good idea.\n",
      "Namespaces are one honking great idea -- let's do more of those!\n"
     ]
    }
   ],
   "source": [
    "import this"
   ]
  },
  {
   "cell_type": "code",
   "execution_count": null,
   "id": "ea46a614",
   "metadata": {},
   "outputs": [],
   "source": []
  },
  {
   "cell_type": "markdown",
   "id": "0d8b5c9a",
   "metadata": {},
   "source": [
    "### Writing our First Python Syntax"
   ]
  },
  {
   "cell_type": "markdown",
   "id": "d992f379",
   "metadata": {},
   "source": [
    "- Launch the Jupyter Notebook.\n",
    "\n",
    "- Create a new Notebook.\n",
    "\n",
    "- Type the following command:\n",
    "\n",
    "`print(\"Hello World\")`\n",
    "\n",
    "- Press the Shift and Enter Key"
   ]
  },
  {
   "cell_type": "code",
   "execution_count": 1,
   "id": "6651817d",
   "metadata": {},
   "outputs": [
    {
     "name": "stdout",
     "output_type": "stream",
     "text": [
      "Hello World\n"
     ]
    }
   ],
   "source": [
    "print(\"Hello World\")"
   ]
  },
  {
   "cell_type": "markdown",
   "id": "73737592",
   "metadata": {},
   "source": [
    "If there are no errors and Hello World is displayed, hurray you have written your first python Syntax.\n",
    "\n",
    "`Welcome to Python Programming`"
   ]
  },
  {
   "cell_type": "markdown",
   "id": "7b2e039f",
   "metadata": {},
   "source": [
    "The instruction `print(\"Hello World\")`  displays the string \"Hello world\" on the screen."
   ]
  },
  {
   "cell_type": "markdown",
   "id": "15265b35",
   "metadata": {},
   "source": [
    "The `print` is a built-in function in Python that is used to output data to the screen, or to a file."
   ]
  },
  {
   "cell_type": "markdown",
   "id": "bc1949f5",
   "metadata": {},
   "source": [
    "### Variable"
   ]
  },
  {
   "cell_type": "markdown",
   "id": "9819503d",
   "metadata": {},
   "source": [
    "A variable in computer programming is a name that represent a value.\n",
    "\n",
    "Simply put, a variable is a container for storing data values."
   ]
  },
  {
   "cell_type": "markdown",
   "id": "474684fe",
   "metadata": {},
   "source": [
    "Examples:\n",
    "    \n",
    "`number = 2`\n",
    "\n",
    "The number holds the value of 2\n",
    "\n",
    "`name = \"Selasi\"`\n",
    "\n",
    "The name holds the value of Selasi"
   ]
  },
  {
   "cell_type": "code",
   "execution_count": 2,
   "id": "606a8cef",
   "metadata": {},
   "outputs": [
    {
     "data": {
      "text/plain": [
       "2"
      ]
     },
     "execution_count": 2,
     "metadata": {},
     "output_type": "execute_result"
    }
   ],
   "source": [
    "number = 2\n",
    "number"
   ]
  },
  {
   "cell_type": "code",
   "execution_count": 3,
   "id": "d2ebc2f1",
   "metadata": {},
   "outputs": [
    {
     "data": {
      "text/plain": [
       "'Selasi'"
      ]
     },
     "execution_count": 3,
     "metadata": {},
     "output_type": "execute_result"
    }
   ],
   "source": [
    "name = \"Selasi\"\n",
    "name"
   ]
  },
  {
   "cell_type": "code",
   "execution_count": 4,
   "id": "46b7c359",
   "metadata": {},
   "outputs": [],
   "source": [
    "names = [\"Kofi\",\"Ama\", \"Kojo\"]\n"
   ]
  },
  {
   "cell_type": "code",
   "execution_count": 5,
   "id": "ca33c281",
   "metadata": {},
   "outputs": [
    {
     "data": {
      "text/plain": [
       "['Kofi', 'Ama', 'Kojo']"
      ]
     },
     "execution_count": 5,
     "metadata": {},
     "output_type": "execute_result"
    }
   ],
   "source": [
    "names"
   ]
  },
  {
   "cell_type": "markdown",
   "id": "895f0894",
   "metadata": {},
   "source": [
    "#### Standard rules for creating  Variable"
   ]
  },
  {
   "cell_type": "markdown",
   "id": "a846b488",
   "metadata": {},
   "source": [
    "- Variable names must start with a letter or an underscore (_) and can be followed by any combination of letters, digits, and underscores.\n",
    "\n",
    "- Variable naming are case-sensitive meaning **X** and **x** are considered as different variables.\n",
    "\n",
    "- Variable names should be meaningful and descriptive, it makes it easier to understand the code and to debug it.\n",
    "\n",
    "- Avoid using python reserved words as variable name example **if, elif, else** etc\n",
    "\n",
    "- Avoid spaces in variable name example **my name**, **my age**"
   ]
  },
  {
   "cell_type": "code",
   "execution_count": null,
   "id": "7ff9cbe9",
   "metadata": {},
   "outputs": [],
   "source": []
  },
  {
   "cell_type": "markdown",
   "id": "a0398f18",
   "metadata": {},
   "source": [
    "### Data Types"
   ]
  },
  {
   "cell_type": "markdown",
   "id": "c39e5060",
   "metadata": {},
   "source": [
    "A data type or simply type is a classification of data which tells the compiler or interpreter how the programmer intends to use the data.\n",
    "\n",
    "Simply, data types are used to specify the type of a variable"
   ]
  },
  {
   "cell_type": "markdown",
   "id": "a1e047bd",
   "metadata": {},
   "source": [
    "#### Basic Data Type In Python"
   ]
  },
  {
   "cell_type": "markdown",
   "id": "7e33d314",
   "metadata": {},
   "source": [
    "The basic data type in python include:\n",
    "\n",
    "1. Integer\n",
    "2. Float\n",
    "3. Boolean\n",
    "4. String"
   ]
  },
  {
   "cell_type": "markdown",
   "id": "88227dc4",
   "metadata": {},
   "source": [
    "#### Integer"
   ]
  },
  {
   "cell_type": "markdown",
   "id": "65c12a99",
   "metadata": {},
   "source": [
    "An integer is a number with no decimal or fractional part and it includes negative and positive numbers, including zero.\n",
    "\n",
    "Integers are represented as **int** in python\n",
    "\n",
    "Examples include 2,33,-2,0\n"
   ]
  },
  {
   "cell_type": "code",
   "execution_count": 6,
   "id": "f26a9c3b",
   "metadata": {},
   "outputs": [],
   "source": [
    "x  = 4\n",
    "y = 0"
   ]
  },
  {
   "cell_type": "markdown",
   "id": "49f3dd6b",
   "metadata": {},
   "source": [
    "To check the the data type of a variable use the function **type()**"
   ]
  },
  {
   "cell_type": "code",
   "execution_count": 7,
   "id": "5084a395",
   "metadata": {},
   "outputs": [
    {
     "data": {
      "text/plain": [
       "int"
      ]
     },
     "execution_count": 7,
     "metadata": {},
     "output_type": "execute_result"
    }
   ],
   "source": [
    "type(y)"
   ]
  },
  {
   "cell_type": "code",
   "execution_count": 8,
   "id": "34d6e18c",
   "metadata": {},
   "outputs": [
    {
     "data": {
      "text/plain": [
       "int"
      ]
     },
     "execution_count": 8,
     "metadata": {},
     "output_type": "execute_result"
    }
   ],
   "source": [
    "type(x)"
   ]
  },
  {
   "cell_type": "markdown",
   "id": "4d4f9bff",
   "metadata": {},
   "source": [
    "#### Float"
   ]
  },
  {
   "cell_type": "markdown",
   "id": "12fe6459",
   "metadata": {},
   "source": [
    "A float is a number with a decimal point.\n",
    "\n",
    "Examples include 22.5, 55.3, 0.25, -34"
   ]
  },
  {
   "cell_type": "code",
   "execution_count": 9,
   "id": "083deab6",
   "metadata": {},
   "outputs": [],
   "source": [
    "a = 5.5\n",
    "b = 22.0"
   ]
  },
  {
   "cell_type": "code",
   "execution_count": 10,
   "id": "56e7352f",
   "metadata": {},
   "outputs": [
    {
     "data": {
      "text/plain": [
       "5.5"
      ]
     },
     "execution_count": 10,
     "metadata": {},
     "output_type": "execute_result"
    }
   ],
   "source": [
    "a"
   ]
  },
  {
   "cell_type": "code",
   "execution_count": 11,
   "id": "79bc62da",
   "metadata": {},
   "outputs": [
    {
     "data": {
      "text/plain": [
       "float"
      ]
     },
     "execution_count": 11,
     "metadata": {},
     "output_type": "execute_result"
    }
   ],
   "source": [
    "type(a)"
   ]
  },
  {
   "cell_type": "code",
   "execution_count": 12,
   "id": "59a89d14",
   "metadata": {},
   "outputs": [
    {
     "data": {
      "text/plain": [
       "float"
      ]
     },
     "execution_count": 12,
     "metadata": {},
     "output_type": "execute_result"
    }
   ],
   "source": [
    "type(b)"
   ]
  },
  {
   "cell_type": "markdown",
   "id": "726b847a",
   "metadata": {},
   "source": [
    "#### Boolean"
   ]
  },
  {
   "cell_type": "markdown",
   "id": "1907cf28",
   "metadata": {},
   "source": [
    "A boolean is a data type that has one of two possible values, **True (1)**, **False(0)**.\n",
    "\n",
    "It is represented as **bool** in Python\n"
   ]
  },
  {
   "cell_type": "code",
   "execution_count": 13,
   "id": "85be3930",
   "metadata": {},
   "outputs": [
    {
     "data": {
      "text/plain": [
       "True"
      ]
     },
     "execution_count": 13,
     "metadata": {},
     "output_type": "execute_result"
    }
   ],
   "source": [
    "True"
   ]
  },
  {
   "cell_type": "code",
   "execution_count": 14,
   "id": "a6a42ba1",
   "metadata": {},
   "outputs": [
    {
     "data": {
      "text/plain": [
       "True"
      ]
     },
     "execution_count": 14,
     "metadata": {},
     "output_type": "execute_result"
    }
   ],
   "source": [
    "bool(1)"
   ]
  },
  {
   "cell_type": "code",
   "execution_count": 15,
   "id": "d65f2092",
   "metadata": {},
   "outputs": [
    {
     "data": {
      "text/plain": [
       "False"
      ]
     },
     "execution_count": 15,
     "metadata": {},
     "output_type": "execute_result"
    }
   ],
   "source": [
    "bool(0)"
   ]
  },
  {
   "cell_type": "code",
   "execution_count": null,
   "id": "23c140f4",
   "metadata": {},
   "outputs": [],
   "source": []
  },
  {
   "cell_type": "markdown",
   "id": "12f261de",
   "metadata": {},
   "source": [
    "#### String"
   ]
  },
  {
   "cell_type": "markdown",
   "id": "2a83be66",
   "metadata": {},
   "source": [
    "A string is data type that consists of a sequence of characters that represent as text.\n",
    "\n",
    "Strings are **immutable** meaning characters of a string cannot be replaced once created.\n",
    "\n",
    "Strings are indicated in Python using the quotation marks(**\"\"** or **''**)\n",
    "\n",
    "Numbers placed within quoatation marks are strings.\n",
    "\n",
    "It is represented as **str**."
   ]
  },
  {
   "cell_type": "code",
   "execution_count": 16,
   "id": "7f05de08",
   "metadata": {},
   "outputs": [],
   "source": [
    "my_name = \"Kwaku\"\n",
    "age = \"21\""
   ]
  },
  {
   "cell_type": "code",
   "execution_count": 17,
   "id": "7b144177",
   "metadata": {},
   "outputs": [
    {
     "data": {
      "text/plain": [
       "'Kwaku'"
      ]
     },
     "execution_count": 17,
     "metadata": {},
     "output_type": "execute_result"
    }
   ],
   "source": [
    "my_name"
   ]
  },
  {
   "cell_type": "code",
   "execution_count": 18,
   "id": "bae042b3",
   "metadata": {},
   "outputs": [
    {
     "data": {
      "text/plain": [
       "str"
      ]
     },
     "execution_count": 18,
     "metadata": {},
     "output_type": "execute_result"
    }
   ],
   "source": [
    "type(my_name)"
   ]
  },
  {
   "cell_type": "code",
   "execution_count": 19,
   "id": "7644139f",
   "metadata": {},
   "outputs": [
    {
     "data": {
      "text/plain": [
       "str"
      ]
     },
     "execution_count": 19,
     "metadata": {},
     "output_type": "execute_result"
    }
   ],
   "source": [
    "type(age)"
   ]
  },
  {
   "cell_type": "markdown",
   "id": "eda71409",
   "metadata": {},
   "source": [
    "#### Casting"
   ]
  },
  {
   "cell_type": "markdown",
   "id": "49d8f385",
   "metadata": {},
   "source": [
    "It is the process of converting the value of one data type to another.\n",
    "\n",
    "Examples:  Converting an integer to float, converting a float to an integer etc"
   ]
  },
  {
   "cell_type": "markdown",
   "id": "d503fe74",
   "metadata": {},
   "source": [
    "##### Converting a float to an integer\n",
    "Use the function **int()** to convert a float to an integer"
   ]
  },
  {
   "cell_type": "code",
   "execution_count": 20,
   "id": "ddfcce3e",
   "metadata": {},
   "outputs": [],
   "source": [
    "number = 34.4"
   ]
  },
  {
   "cell_type": "code",
   "execution_count": 21,
   "id": "b7ed622b",
   "metadata": {},
   "outputs": [
    {
     "data": {
      "text/plain": [
       "float"
      ]
     },
     "execution_count": 21,
     "metadata": {},
     "output_type": "execute_result"
    }
   ],
   "source": [
    "type(number)"
   ]
  },
  {
   "cell_type": "code",
   "execution_count": 22,
   "id": "c18d9e50",
   "metadata": {},
   "outputs": [
    {
     "data": {
      "text/plain": [
       "34"
      ]
     },
     "execution_count": 22,
     "metadata": {},
     "output_type": "execute_result"
    }
   ],
   "source": [
    "number_int = int(number)\n",
    "number_int"
   ]
  },
  {
   "cell_type": "code",
   "execution_count": 23,
   "id": "f6d99cd2",
   "metadata": {},
   "outputs": [
    {
     "data": {
      "text/plain": [
       "int"
      ]
     },
     "execution_count": 23,
     "metadata": {},
     "output_type": "execute_result"
    }
   ],
   "source": [
    "type(number_int)"
   ]
  },
  {
   "cell_type": "markdown",
   "id": "b641bb1c",
   "metadata": {},
   "source": [
    "##### Converting an integer to a float\n"
   ]
  },
  {
   "cell_type": "markdown",
   "id": "7e95db59",
   "metadata": {},
   "source": [
    "Use the function float() to convert an integer to a float"
   ]
  },
  {
   "cell_type": "code",
   "execution_count": 24,
   "id": "094fa9d4",
   "metadata": {},
   "outputs": [
    {
     "data": {
      "text/plain": [
       "int"
      ]
     },
     "execution_count": 24,
     "metadata": {},
     "output_type": "execute_result"
    }
   ],
   "source": [
    "num_int = 50\n",
    "type(num_int)"
   ]
  },
  {
   "cell_type": "code",
   "execution_count": 25,
   "id": "35bd821d",
   "metadata": {},
   "outputs": [
    {
     "data": {
      "text/plain": [
       "50.0"
      ]
     },
     "execution_count": 25,
     "metadata": {},
     "output_type": "execute_result"
    }
   ],
   "source": [
    "num_float = float(num_int)\n",
    "num_float"
   ]
  },
  {
   "cell_type": "code",
   "execution_count": 26,
   "id": "afa15ebf",
   "metadata": {},
   "outputs": [
    {
     "data": {
      "text/plain": [
       "float"
      ]
     },
     "execution_count": 26,
     "metadata": {},
     "output_type": "execute_result"
    }
   ],
   "source": [
    "type(num_float)"
   ]
  },
  {
   "cell_type": "markdown",
   "id": "0e11ed99",
   "metadata": {},
   "source": [
    "#### Converting an integer to a string"
   ]
  },
  {
   "cell_type": "markdown",
   "id": "423a0b3e",
   "metadata": {},
   "source": [
    "Use the function str() to convert an  integer to a string"
   ]
  },
  {
   "cell_type": "code",
   "execution_count": 27,
   "id": "822ee808",
   "metadata": {},
   "outputs": [
    {
     "data": {
      "text/plain": [
       "int"
      ]
     },
     "execution_count": 27,
     "metadata": {},
     "output_type": "execute_result"
    }
   ],
   "source": [
    "h = 5\n",
    "type(h)"
   ]
  },
  {
   "cell_type": "code",
   "execution_count": 28,
   "id": "1bccc0ab",
   "metadata": {},
   "outputs": [
    {
     "data": {
      "text/plain": [
       "'5'"
      ]
     },
     "execution_count": 28,
     "metadata": {},
     "output_type": "execute_result"
    }
   ],
   "source": [
    "h_str =str(h)\n",
    "h_str"
   ]
  },
  {
   "cell_type": "markdown",
   "id": "40b2ee16",
   "metadata": {},
   "source": [
    "### Assignment Operator"
   ]
  },
  {
   "cell_type": "markdown",
   "id": "4948175f",
   "metadata": {},
   "source": [
    "The assignment operator is used to assign a value to a variable.\n",
    "\n",
    "The symbol for the assigment operator in Python is **=**"
   ]
  },
  {
   "cell_type": "code",
   "execution_count": 29,
   "id": "44064e3a",
   "metadata": {},
   "outputs": [],
   "source": [
    "Kofi = 9\n",
    "Ama  = 10"
   ]
  },
  {
   "cell_type": "code",
   "execution_count": 30,
   "id": "c9c41ea2",
   "metadata": {},
   "outputs": [
    {
     "data": {
      "text/plain": [
       "9"
      ]
     },
     "execution_count": 30,
     "metadata": {},
     "output_type": "execute_result"
    }
   ],
   "source": [
    "Kofi"
   ]
  },
  {
   "cell_type": "code",
   "execution_count": 31,
   "id": "4479ee45",
   "metadata": {},
   "outputs": [
    {
     "data": {
      "text/plain": [
       "10"
      ]
     },
     "execution_count": 31,
     "metadata": {},
     "output_type": "execute_result"
    }
   ],
   "source": [
    "Ama"
   ]
  },
  {
   "cell_type": "markdown",
   "id": "14c63d27",
   "metadata": {},
   "source": [
    "### Arithmetric Operators"
   ]
  },
  {
   "cell_type": "markdown",
   "id": "355006ce",
   "metadata": {},
   "source": [
    "|Operator||Action|\n",
    "|----||----|\n",
    "|+||addition|\n",
    "|-||subtraction|\n",
    "|*||multiplication|\n",
    "|/|| division|\n",
    "|\\**||exponential|\n",
    "|%||modulo|\n",
    "|\\//|| integer division|"
   ]
  },
  {
   "cell_type": "code",
   "execution_count": 32,
   "id": "dfffee14",
   "metadata": {},
   "outputs": [],
   "source": [
    "# Addition\n",
    "a = 45\n",
    "b = 33"
   ]
  },
  {
   "cell_type": "code",
   "execution_count": 33,
   "id": "4f6ae7ed",
   "metadata": {},
   "outputs": [
    {
     "data": {
      "text/plain": [
       "78"
      ]
     },
     "execution_count": 33,
     "metadata": {},
     "output_type": "execute_result"
    }
   ],
   "source": [
    "a+b"
   ]
  },
  {
   "cell_type": "code",
   "execution_count": 34,
   "id": "c9d60733",
   "metadata": {},
   "outputs": [
    {
     "data": {
      "text/plain": [
       "-12"
      ]
     },
     "execution_count": 34,
     "metadata": {},
     "output_type": "execute_result"
    }
   ],
   "source": [
    "# Substraction\n",
    "b-a"
   ]
  },
  {
   "cell_type": "code",
   "execution_count": 35,
   "id": "4adab83d",
   "metadata": {},
   "outputs": [
    {
     "data": {
      "text/plain": [
       "12"
      ]
     },
     "execution_count": 35,
     "metadata": {},
     "output_type": "execute_result"
    }
   ],
   "source": [
    "a-b"
   ]
  },
  {
   "cell_type": "code",
   "execution_count": 36,
   "id": "1b839406",
   "metadata": {},
   "outputs": [
    {
     "data": {
      "text/plain": [
       "40"
      ]
     },
     "execution_count": 36,
     "metadata": {},
     "output_type": "execute_result"
    }
   ],
   "source": [
    "43-3"
   ]
  },
  {
   "cell_type": "code",
   "execution_count": 37,
   "id": "493301ea",
   "metadata": {},
   "outputs": [
    {
     "data": {
      "text/plain": [
       "1.3636363636363635"
      ]
     },
     "execution_count": 37,
     "metadata": {},
     "output_type": "execute_result"
    }
   ],
   "source": [
    "#Division\n",
    "a/b"
   ]
  },
  {
   "cell_type": "code",
   "execution_count": 38,
   "id": "631dc8df",
   "metadata": {},
   "outputs": [
    {
     "data": {
      "text/plain": [
       "4.0"
      ]
     },
     "execution_count": 38,
     "metadata": {},
     "output_type": "execute_result"
    }
   ],
   "source": [
    "14/3.5"
   ]
  },
  {
   "cell_type": "markdown",
   "id": "89a3719e",
   "metadata": {},
   "source": [
    "**The division operation returns a float even if the operands are integers**"
   ]
  },
  {
   "cell_type": "code",
   "execution_count": 39,
   "id": "8a93fc39",
   "metadata": {},
   "outputs": [
    {
     "data": {
      "text/plain": [
       "1"
      ]
     },
     "execution_count": 39,
     "metadata": {},
     "output_type": "execute_result"
    }
   ],
   "source": [
    "#Integer Division\n",
    "a//b"
   ]
  },
  {
   "cell_type": "code",
   "execution_count": 40,
   "id": "44779394",
   "metadata": {},
   "outputs": [
    {
     "data": {
      "text/plain": [
       "4"
      ]
     },
     "execution_count": 40,
     "metadata": {},
     "output_type": "execute_result"
    }
   ],
   "source": [
    "14//3"
   ]
  },
  {
   "cell_type": "markdown",
   "id": "b04207a3",
   "metadata": {},
   "source": [
    "**The integer division returns the quotient of the division as the output which is an integer**"
   ]
  },
  {
   "cell_type": "code",
   "execution_count": 41,
   "id": "8902222f",
   "metadata": {},
   "outputs": [
    {
     "data": {
      "text/plain": [
       "1"
      ]
     },
     "execution_count": 41,
     "metadata": {},
     "output_type": "execute_result"
    }
   ],
   "source": [
    "#Modulo\n",
    "15%2"
   ]
  },
  {
   "cell_type": "code",
   "execution_count": 42,
   "id": "bba2a937",
   "metadata": {},
   "outputs": [
    {
     "data": {
      "text/plain": [
       "12"
      ]
     },
     "execution_count": 42,
     "metadata": {},
     "output_type": "execute_result"
    }
   ],
   "source": [
    "a%b"
   ]
  },
  {
   "cell_type": "markdown",
   "id": "aa283502",
   "metadata": {},
   "source": [
    "**The modulo operator returns the remainder of the divison.**"
   ]
  },
  {
   "cell_type": "code",
   "execution_count": null,
   "id": "a32f0ae8",
   "metadata": {},
   "outputs": [],
   "source": []
  },
  {
   "cell_type": "markdown",
   "id": "426fa030",
   "metadata": {},
   "source": [
    "### Exponential operator"
   ]
  },
  {
   "cell_type": "markdown",
   "id": "b4a33a8f",
   "metadata": {},
   "source": [
    "The exponential operator returns the results of raising the first operand to the power of the second operand.\n",
    "\n",
    "The symbol of the exponential operator in Python is `**`\n",
    "\n",
    "The symbol **^** does no means power in Python"
   ]
  },
  {
   "cell_type": "code",
   "execution_count": 43,
   "id": "9622191b",
   "metadata": {},
   "outputs": [
    {
     "data": {
      "text/plain": [
       "8"
      ]
     },
     "execution_count": 43,
     "metadata": {},
     "output_type": "execute_result"
    }
   ],
   "source": [
    "2**3"
   ]
  },
  {
   "cell_type": "code",
   "execution_count": 44,
   "id": "1c84c0f0",
   "metadata": {},
   "outputs": [
    {
     "data": {
      "text/plain": [
       "25"
      ]
     },
     "execution_count": 44,
     "metadata": {},
     "output_type": "execute_result"
    }
   ],
   "source": [
    "5**2"
   ]
  },
  {
   "cell_type": "code",
   "execution_count": null,
   "id": "17b88ea1",
   "metadata": {},
   "outputs": [],
   "source": []
  },
  {
   "cell_type": "markdown",
   "id": "c8bdfe6b",
   "metadata": {},
   "source": [
    "### Comparison operators\n"
   ]
  },
  {
   "cell_type": "markdown",
   "id": "5031d125",
   "metadata": {},
   "source": [
    "|Operator||Meaning|\n",
    "|----||----|\n",
    "|<||less than|\n",
    "|>||greater than|\n",
    "|<=||less than or equals to|\n",
    "|>=||greater than or equals to|\n",
    "|==||equals to|\n",
    "|!=|| not equals to|"
   ]
  },
  {
   "cell_type": "code",
   "execution_count": 45,
   "id": "5bdd2dbf",
   "metadata": {},
   "outputs": [],
   "source": [
    "apples = 44\n",
    "banana = 22\n",
    "oranges = 15\n",
    "pawpaw = 22"
   ]
  },
  {
   "cell_type": "code",
   "execution_count": 46,
   "id": "f4d1c052",
   "metadata": {},
   "outputs": [
    {
     "data": {
      "text/plain": [
       "False"
      ]
     },
     "execution_count": 46,
     "metadata": {},
     "output_type": "execute_result"
    }
   ],
   "source": [
    "apples < oranges"
   ]
  },
  {
   "cell_type": "code",
   "execution_count": 47,
   "id": "4c6c2387",
   "metadata": {},
   "outputs": [
    {
     "data": {
      "text/plain": [
       "True"
      ]
     },
     "execution_count": 47,
     "metadata": {},
     "output_type": "execute_result"
    }
   ],
   "source": [
    "banana > oranges"
   ]
  },
  {
   "cell_type": "code",
   "execution_count": 48,
   "id": "6e5c172a",
   "metadata": {},
   "outputs": [
    {
     "data": {
      "text/plain": [
       "False"
      ]
     },
     "execution_count": 48,
     "metadata": {},
     "output_type": "execute_result"
    }
   ],
   "source": [
    "apples <= oranges"
   ]
  },
  {
   "cell_type": "code",
   "execution_count": 49,
   "id": "f183a224",
   "metadata": {},
   "outputs": [
    {
     "data": {
      "text/plain": [
       "True"
      ]
     },
     "execution_count": 49,
     "metadata": {},
     "output_type": "execute_result"
    }
   ],
   "source": [
    "apples >= pawpaw"
   ]
  },
  {
   "cell_type": "code",
   "execution_count": 50,
   "id": "6ff17d36",
   "metadata": {},
   "outputs": [
    {
     "data": {
      "text/plain": [
       "True"
      ]
     },
     "execution_count": 50,
     "metadata": {},
     "output_type": "execute_result"
    }
   ],
   "source": [
    "banana == pawpaw"
   ]
  },
  {
   "cell_type": "code",
   "execution_count": 51,
   "id": "2095695e",
   "metadata": {},
   "outputs": [
    {
     "data": {
      "text/plain": [
       "True"
      ]
     },
     "execution_count": 51,
     "metadata": {},
     "output_type": "execute_result"
    }
   ],
   "source": [
    "banana != apples"
   ]
  },
  {
   "cell_type": "code",
   "execution_count": null,
   "id": "fbdb69f5",
   "metadata": {},
   "outputs": [],
   "source": []
  },
  {
   "cell_type": "markdown",
   "id": "62ac5ccb",
   "metadata": {},
   "source": [
    "### Logical Operators"
   ]
  },
  {
   "cell_type": "markdown",
   "id": "eb6635e8",
   "metadata": {},
   "source": [
    "|Operator||Action|\n",
    "|----||----|\n",
    "|and (&)||evaluates if both sides are True|\n",
    "|or (\\|)||evaluates if at least one side is True|\n",
    "|not||inverses a boolean|"
   ]
  },
  {
   "cell_type": "code",
   "execution_count": 52,
   "id": "47563f35",
   "metadata": {},
   "outputs": [
    {
     "data": {
      "text/plain": [
       "True"
      ]
     },
     "execution_count": 52,
     "metadata": {},
     "output_type": "execute_result"
    }
   ],
   "source": [
    "(banana == pawpaw) and (banana != apples)"
   ]
  },
  {
   "cell_type": "code",
   "execution_count": 53,
   "id": "0ae01ad7",
   "metadata": {},
   "outputs": [
    {
     "data": {
      "text/plain": [
       "True"
      ]
     },
     "execution_count": 53,
     "metadata": {},
     "output_type": "execute_result"
    }
   ],
   "source": [
    "(apples >= pawpaw) | (banana > oranges)"
   ]
  },
  {
   "cell_type": "code",
   "execution_count": 54,
   "id": "68f98f02",
   "metadata": {},
   "outputs": [
    {
     "data": {
      "text/plain": [
       "True"
      ]
     },
     "execution_count": 54,
     "metadata": {},
     "output_type": "execute_result"
    }
   ],
   "source": [
    "not (apples < oranges)"
   ]
  },
  {
   "cell_type": "code",
   "execution_count": null,
   "id": "5fc9548d",
   "metadata": {},
   "outputs": [],
   "source": []
  },
  {
   "cell_type": "code",
   "execution_count": null,
   "id": "822716d7",
   "metadata": {},
   "outputs": [],
   "source": []
  }
 ],
 "metadata": {
  "kernelspec": {
   "display_name": "Python 3 (ipykernel)",
   "language": "python",
   "name": "python3"
  },
  "language_info": {
   "codemirror_mode": {
    "name": "ipython",
    "version": 3
   },
   "file_extension": ".py",
   "mimetype": "text/x-python",
   "name": "python",
   "nbconvert_exporter": "python",
   "pygments_lexer": "ipython3",
   "version": "3.9.13"
  }
 },
 "nbformat": 4,
 "nbformat_minor": 5
}
