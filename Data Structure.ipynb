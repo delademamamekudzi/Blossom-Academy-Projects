{
 "cells": [
  {
   "cell_type": "markdown",
   "id": "b50ae69f",
   "metadata": {},
   "source": [
    "### Data Structure\n",
    "\n",
    "- List\n",
    "- Tuple\n",
    "- Set\n",
    "- Dictionary"
   ]
  },
  {
   "cell_type": "markdown",
   "id": "422eb9bf",
   "metadata": {},
   "source": [
    "### List"
   ]
  },
  {
   "cell_type": "code",
   "execution_count": 1,
   "id": "d027bcd0",
   "metadata": {},
   "outputs": [],
   "source": [
    "list_1 = list()"
   ]
  },
  {
   "cell_type": "code",
   "execution_count": 2,
   "id": "9bf5a5ee",
   "metadata": {},
   "outputs": [
    {
     "data": {
      "text/plain": [
       "list"
      ]
     },
     "execution_count": 2,
     "metadata": {},
     "output_type": "execute_result"
    }
   ],
   "source": [
    "type(list_1)"
   ]
  },
  {
   "cell_type": "code",
   "execution_count": 3,
   "id": "9b98f661",
   "metadata": {},
   "outputs": [],
   "source": [
    "list_2 = [1,2, \"Ama\", \"Kofi\",4]"
   ]
  },
  {
   "cell_type": "code",
   "execution_count": 4,
   "id": "8db236f3",
   "metadata": {},
   "outputs": [
    {
     "data": {
      "text/plain": [
       "list"
      ]
     },
     "execution_count": 4,
     "metadata": {},
     "output_type": "execute_result"
    }
   ],
   "source": [
    "type(list_2)"
   ]
  },
  {
   "cell_type": "code",
   "execution_count": 5,
   "id": "3d12b12a",
   "metadata": {},
   "outputs": [],
   "source": [
    "list_3 = [1,2, [\"Ama\", \"Kofi\",\"Kwame\"],4]"
   ]
  },
  {
   "cell_type": "code",
   "execution_count": 6,
   "id": "60c66820",
   "metadata": {},
   "outputs": [
    {
     "data": {
      "text/plain": [
       "[1, 2, ['Ama', 'Kofi', 'Kwame'], 4]"
      ]
     },
     "execution_count": 6,
     "metadata": {},
     "output_type": "execute_result"
    }
   ],
   "source": [
    "list_3"
   ]
  },
  {
   "cell_type": "code",
   "execution_count": 7,
   "id": "86876448",
   "metadata": {},
   "outputs": [
    {
     "data": {
      "text/plain": [
       "list"
      ]
     },
     "execution_count": 7,
     "metadata": {},
     "output_type": "execute_result"
    }
   ],
   "source": [
    "type(list_3)"
   ]
  },
  {
   "cell_type": "code",
   "execution_count": 8,
   "id": "f79f7abf",
   "metadata": {},
   "outputs": [
    {
     "data": {
      "text/plain": [
       "[1, 2, 'Ama', 'Kofi', 4]"
      ]
     },
     "execution_count": 8,
     "metadata": {},
     "output_type": "execute_result"
    }
   ],
   "source": [
    "list_2"
   ]
  },
  {
   "cell_type": "code",
   "execution_count": 9,
   "id": "daa2ff1d",
   "metadata": {},
   "outputs": [
    {
     "data": {
      "text/plain": [
       "'Ama'"
      ]
     },
     "execution_count": 9,
     "metadata": {},
     "output_type": "execute_result"
    }
   ],
   "source": [
    "list_2[2]"
   ]
  },
  {
   "cell_type": "code",
   "execution_count": 10,
   "id": "ac239cc8",
   "metadata": {},
   "outputs": [
    {
     "data": {
      "text/plain": [
       "4"
      ]
     },
     "execution_count": 10,
     "metadata": {},
     "output_type": "execute_result"
    }
   ],
   "source": [
    "list_2[4]"
   ]
  },
  {
   "cell_type": "code",
   "execution_count": 11,
   "id": "ee63b42c",
   "metadata": {},
   "outputs": [
    {
     "data": {
      "text/plain": [
       "4"
      ]
     },
     "execution_count": 11,
     "metadata": {},
     "output_type": "execute_result"
    }
   ],
   "source": [
    "list_2[-1]"
   ]
  },
  {
   "cell_type": "code",
   "execution_count": 12,
   "id": "cd6367cd",
   "metadata": {},
   "outputs": [
    {
     "data": {
      "text/plain": [
       "4"
      ]
     },
     "execution_count": 12,
     "metadata": {},
     "output_type": "execute_result"
    }
   ],
   "source": [
    "list_2[len(list_2)-1]"
   ]
  },
  {
   "cell_type": "code",
   "execution_count": 13,
   "id": "df82ca18",
   "metadata": {},
   "outputs": [
    {
     "data": {
      "text/plain": [
       "[1, 2, ['Ama', 'Kofi', 'Kwame'], 4]"
      ]
     },
     "execution_count": 13,
     "metadata": {},
     "output_type": "execute_result"
    }
   ],
   "source": [
    "list_3"
   ]
  },
  {
   "cell_type": "code",
   "execution_count": 14,
   "id": "fda98f00",
   "metadata": {},
   "outputs": [
    {
     "data": {
      "text/plain": [
       "'Kofi'"
      ]
     },
     "execution_count": 14,
     "metadata": {},
     "output_type": "execute_result"
    }
   ],
   "source": [
    "list_3[2][1]"
   ]
  },
  {
   "cell_type": "code",
   "execution_count": 15,
   "id": "ecf3ec54",
   "metadata": {},
   "outputs": [
    {
     "data": {
      "text/plain": [
       "['Ama', 'Kofi', 'Kwame']"
      ]
     },
     "execution_count": 15,
     "metadata": {},
     "output_type": "execute_result"
    }
   ],
   "source": [
    "a=list_3[2]\n",
    "a"
   ]
  },
  {
   "cell_type": "code",
   "execution_count": 16,
   "id": "a926938b",
   "metadata": {},
   "outputs": [
    {
     "data": {
      "text/plain": [
       "'Kofi'"
      ]
     },
     "execution_count": 16,
     "metadata": {},
     "output_type": "execute_result"
    }
   ],
   "source": [
    "kofi =a[1]\n",
    "kofi"
   ]
  },
  {
   "cell_type": "code",
   "execution_count": 17,
   "id": "ebe7639d",
   "metadata": {},
   "outputs": [
    {
     "data": {
      "text/plain": [
       "[1, 2, ['Ama', 'Kofi', 'Kwame'], 4]"
      ]
     },
     "execution_count": 17,
     "metadata": {},
     "output_type": "execute_result"
    }
   ],
   "source": [
    "list_3"
   ]
  },
  {
   "cell_type": "code",
   "execution_count": 18,
   "id": "9522bc94",
   "metadata": {},
   "outputs": [
    {
     "data": {
      "text/plain": [
       "['Kofi', 'Kwame']"
      ]
     },
     "execution_count": 18,
     "metadata": {},
     "output_type": "execute_result"
    }
   ],
   "source": [
    "list_3[2][1:3]"
   ]
  },
  {
   "cell_type": "markdown",
   "id": "d3da1394",
   "metadata": {},
   "source": [
    "### Methods"
   ]
  },
  {
   "cell_type": "code",
   "execution_count": 19,
   "id": "f718ff41",
   "metadata": {},
   "outputs": [
    {
     "data": {
      "text/plain": [
       "[1, 2, 'Ama', 'Kofi', 4]"
      ]
     },
     "execution_count": 19,
     "metadata": {},
     "output_type": "execute_result"
    }
   ],
   "source": [
    "list_2"
   ]
  },
  {
   "cell_type": "code",
   "execution_count": 20,
   "id": "b909c7d8",
   "metadata": {},
   "outputs": [
    {
     "data": {
      "text/plain": [
       "5"
      ]
     },
     "execution_count": 20,
     "metadata": {},
     "output_type": "execute_result"
    }
   ],
   "source": [
    "len(list_2)"
   ]
  },
  {
   "cell_type": "code",
   "execution_count": 21,
   "id": "558176df",
   "metadata": {},
   "outputs": [],
   "source": [
    "list_2.append(5)"
   ]
  },
  {
   "cell_type": "code",
   "execution_count": 22,
   "id": "243d0718",
   "metadata": {},
   "outputs": [
    {
     "data": {
      "text/plain": [
       "[1, 2, 'Ama', 'Kofi', 4, 5]"
      ]
     },
     "execution_count": 22,
     "metadata": {},
     "output_type": "execute_result"
    }
   ],
   "source": [
    "list_2"
   ]
  },
  {
   "cell_type": "code",
   "execution_count": 23,
   "id": "4ca0172d",
   "metadata": {},
   "outputs": [],
   "source": [
    "list_2.append(\"Joana\")"
   ]
  },
  {
   "cell_type": "code",
   "execution_count": 24,
   "id": "0967d791",
   "metadata": {},
   "outputs": [
    {
     "data": {
      "text/plain": [
       "[1, 2, 'Ama', 'Kofi', 4, 5, 'Joana']"
      ]
     },
     "execution_count": 24,
     "metadata": {},
     "output_type": "execute_result"
    }
   ],
   "source": [
    "list_2"
   ]
  },
  {
   "cell_type": "code",
   "execution_count": 25,
   "id": "4f118567",
   "metadata": {},
   "outputs": [
    {
     "data": {
      "text/plain": [
       "7"
      ]
     },
     "execution_count": 25,
     "metadata": {},
     "output_type": "execute_result"
    }
   ],
   "source": [
    "len(list_2)"
   ]
  },
  {
   "cell_type": "code",
   "execution_count": 26,
   "id": "b98c4811",
   "metadata": {},
   "outputs": [],
   "source": [
    "list_2.insert(2,44)"
   ]
  },
  {
   "cell_type": "code",
   "execution_count": 27,
   "id": "ce065cb6",
   "metadata": {},
   "outputs": [
    {
     "data": {
      "text/plain": [
       "[1, 2, 44, 'Ama', 'Kofi', 4, 5, 'Joana']"
      ]
     },
     "execution_count": 27,
     "metadata": {},
     "output_type": "execute_result"
    }
   ],
   "source": [
    "list_2"
   ]
  },
  {
   "cell_type": "code",
   "execution_count": 28,
   "id": "9f5256ee",
   "metadata": {},
   "outputs": [],
   "source": [
    "list_2.extend([44,5,6])"
   ]
  },
  {
   "cell_type": "code",
   "execution_count": 29,
   "id": "66ec5db9",
   "metadata": {},
   "outputs": [
    {
     "data": {
      "text/plain": [
       "[1, 2, 44, 'Ama', 'Kofi', 4, 5, 'Joana', 44, 5, 6]"
      ]
     },
     "execution_count": 29,
     "metadata": {},
     "output_type": "execute_result"
    }
   ],
   "source": [
    "list_2"
   ]
  },
  {
   "cell_type": "code",
   "execution_count": 30,
   "id": "435738fd",
   "metadata": {},
   "outputs": [
    {
     "data": {
      "text/plain": [
       "6"
      ]
     },
     "execution_count": 30,
     "metadata": {},
     "output_type": "execute_result"
    }
   ],
   "source": [
    "list_2.pop()"
   ]
  },
  {
   "cell_type": "code",
   "execution_count": 31,
   "id": "584741ba",
   "metadata": {},
   "outputs": [
    {
     "data": {
      "text/plain": [
       "10"
      ]
     },
     "execution_count": 31,
     "metadata": {},
     "output_type": "execute_result"
    }
   ],
   "source": [
    "len(list_2)"
   ]
  },
  {
   "cell_type": "code",
   "execution_count": 32,
   "id": "083cb48b",
   "metadata": {},
   "outputs": [
    {
     "data": {
      "text/plain": [
       "44"
      ]
     },
     "execution_count": 32,
     "metadata": {},
     "output_type": "execute_result"
    }
   ],
   "source": [
    "list_2.pop(2)"
   ]
  },
  {
   "cell_type": "code",
   "execution_count": 33,
   "id": "c6148cb5",
   "metadata": {},
   "outputs": [
    {
     "data": {
      "text/plain": [
       "[1, 2, 'Ama', 'Kofi', 4, 5, 'Joana', 44, 5]"
      ]
     },
     "execution_count": 33,
     "metadata": {},
     "output_type": "execute_result"
    }
   ],
   "source": [
    "list_2"
   ]
  },
  {
   "cell_type": "code",
   "execution_count": 34,
   "id": "b163a491",
   "metadata": {},
   "outputs": [
    {
     "data": {
      "text/plain": [
       "9"
      ]
     },
     "execution_count": 34,
     "metadata": {},
     "output_type": "execute_result"
    }
   ],
   "source": [
    "len(list_2)"
   ]
  },
  {
   "cell_type": "code",
   "execution_count": 35,
   "id": "a8b14e94",
   "metadata": {},
   "outputs": [
    {
     "data": {
      "text/plain": [
       "44"
      ]
     },
     "execution_count": 35,
     "metadata": {},
     "output_type": "execute_result"
    }
   ],
   "source": [
    "list_2.pop(-2)"
   ]
  },
  {
   "cell_type": "code",
   "execution_count": 36,
   "id": "18aba440",
   "metadata": {},
   "outputs": [
    {
     "data": {
      "text/plain": [
       "8"
      ]
     },
     "execution_count": 36,
     "metadata": {},
     "output_type": "execute_result"
    }
   ],
   "source": [
    "len(list_2)"
   ]
  },
  {
   "cell_type": "code",
   "execution_count": 37,
   "id": "76325150",
   "metadata": {},
   "outputs": [],
   "source": [
    "list_2.append(2)"
   ]
  },
  {
   "cell_type": "code",
   "execution_count": 38,
   "id": "f3b2b3e3",
   "metadata": {},
   "outputs": [
    {
     "data": {
      "text/plain": [
       "[1, 2, 'Ama', 'Kofi', 4, 5, 'Joana', 5, 2]"
      ]
     },
     "execution_count": 38,
     "metadata": {},
     "output_type": "execute_result"
    }
   ],
   "source": [
    "list_2"
   ]
  },
  {
   "cell_type": "code",
   "execution_count": 39,
   "id": "e652b1db",
   "metadata": {},
   "outputs": [],
   "source": [
    "list_2.remove(\"Ama\")"
   ]
  },
  {
   "cell_type": "code",
   "execution_count": 40,
   "id": "62a90aad",
   "metadata": {},
   "outputs": [
    {
     "data": {
      "text/plain": [
       "[1, 2, 'Kofi', 4, 5, 'Joana', 5, 2]"
      ]
     },
     "execution_count": 40,
     "metadata": {},
     "output_type": "execute_result"
    }
   ],
   "source": [
    "list_2"
   ]
  },
  {
   "cell_type": "code",
   "execution_count": 41,
   "id": "989240eb",
   "metadata": {},
   "outputs": [],
   "source": [
    "list_2[1] = \"Kojo\""
   ]
  },
  {
   "cell_type": "code",
   "execution_count": 42,
   "id": "c7441bc9",
   "metadata": {},
   "outputs": [
    {
     "data": {
      "text/plain": [
       "[1, 'Kojo', 'Kofi', 4, 5, 'Joana', 5, 2]"
      ]
     },
     "execution_count": 42,
     "metadata": {},
     "output_type": "execute_result"
    }
   ],
   "source": [
    "list_2"
   ]
  },
  {
   "cell_type": "code",
   "execution_count": 43,
   "id": "83bab2f0",
   "metadata": {},
   "outputs": [],
   "source": [
    "list_4 = [3,2,6,7,9,11]"
   ]
  },
  {
   "cell_type": "code",
   "execution_count": 44,
   "id": "ffa0f33d",
   "metadata": {},
   "outputs": [],
   "source": [
    "list_4.sort()"
   ]
  },
  {
   "cell_type": "code",
   "execution_count": 45,
   "id": "8893b1ee",
   "metadata": {},
   "outputs": [
    {
     "data": {
      "text/plain": [
       "[2, 3, 6, 7, 9, 11]"
      ]
     },
     "execution_count": 45,
     "metadata": {},
     "output_type": "execute_result"
    }
   ],
   "source": [
    "list_4"
   ]
  },
  {
   "cell_type": "code",
   "execution_count": 46,
   "id": "fe561acc",
   "metadata": {},
   "outputs": [],
   "source": [
    "list_4.sort(reverse=True)"
   ]
  },
  {
   "cell_type": "code",
   "execution_count": 47,
   "id": "01c0480c",
   "metadata": {},
   "outputs": [
    {
     "data": {
      "text/plain": [
       "[11, 9, 7, 6, 3, 2]"
      ]
     },
     "execution_count": 47,
     "metadata": {},
     "output_type": "execute_result"
    }
   ],
   "source": [
    "list_4"
   ]
  },
  {
   "cell_type": "code",
   "execution_count": 48,
   "id": "ab4045a2",
   "metadata": {},
   "outputs": [
    {
     "data": {
      "text/plain": [
       "11"
      ]
     },
     "execution_count": 48,
     "metadata": {},
     "output_type": "execute_result"
    }
   ],
   "source": [
    "max(list_4)"
   ]
  },
  {
   "cell_type": "code",
   "execution_count": 49,
   "id": "c7692794",
   "metadata": {},
   "outputs": [
    {
     "data": {
      "text/plain": [
       "38"
      ]
     },
     "execution_count": 49,
     "metadata": {},
     "output_type": "execute_result"
    }
   ],
   "source": [
    "sum(list_4)"
   ]
  },
  {
   "cell_type": "code",
   "execution_count": 50,
   "id": "88876d52",
   "metadata": {},
   "outputs": [
    {
     "data": {
      "text/plain": [
       "[11, 9, 7, 6, 3, 2]"
      ]
     },
     "execution_count": 50,
     "metadata": {},
     "output_type": "execute_result"
    }
   ],
   "source": [
    "list_4"
   ]
  },
  {
   "cell_type": "code",
   "execution_count": 51,
   "id": "1335511c",
   "metadata": {},
   "outputs": [
    {
     "data": {
      "text/plain": [
       "False"
      ]
     },
     "execution_count": 51,
     "metadata": {},
     "output_type": "execute_result"
    }
   ],
   "source": [
    "5 in list_4"
   ]
  },
  {
   "cell_type": "code",
   "execution_count": 52,
   "id": "57bcc83e",
   "metadata": {},
   "outputs": [
    {
     "data": {
      "text/plain": [
       "True"
      ]
     },
     "execution_count": 52,
     "metadata": {},
     "output_type": "execute_result"
    }
   ],
   "source": [
    "5 not in list_4"
   ]
  },
  {
   "cell_type": "code",
   "execution_count": 53,
   "id": "7971132e",
   "metadata": {},
   "outputs": [],
   "source": [
    "list_4.clear()"
   ]
  },
  {
   "cell_type": "code",
   "execution_count": 54,
   "id": "34e67be8",
   "metadata": {},
   "outputs": [
    {
     "data": {
      "text/plain": [
       "[]"
      ]
     },
     "execution_count": 54,
     "metadata": {},
     "output_type": "execute_result"
    }
   ],
   "source": [
    "list_4"
   ]
  },
  {
   "cell_type": "code",
   "execution_count": 55,
   "id": "56bcb47f",
   "metadata": {},
   "outputs": [
    {
     "data": {
      "text/plain": [
       "0"
      ]
     },
     "execution_count": 55,
     "metadata": {},
     "output_type": "execute_result"
    }
   ],
   "source": [
    "len(list_4)"
   ]
  },
  {
   "cell_type": "markdown",
   "id": "f759623e",
   "metadata": {},
   "source": [
    "### Tuple"
   ]
  },
  {
   "cell_type": "code",
   "execution_count": 56,
   "id": "3e3ec982",
   "metadata": {},
   "outputs": [],
   "source": [
    "tup_1 =()\n"
   ]
  },
  {
   "cell_type": "code",
   "execution_count": 57,
   "id": "044d8ebf",
   "metadata": {},
   "outputs": [
    {
     "data": {
      "text/plain": [
       "tuple"
      ]
     },
     "execution_count": 57,
     "metadata": {},
     "output_type": "execute_result"
    }
   ],
   "source": [
    "type(tup_1)"
   ]
  },
  {
   "cell_type": "code",
   "execution_count": 58,
   "id": "826888ef",
   "metadata": {},
   "outputs": [],
   "source": [
    "tup_2 = tuple()"
   ]
  },
  {
   "cell_type": "code",
   "execution_count": 59,
   "id": "eea029fe",
   "metadata": {},
   "outputs": [
    {
     "data": {
      "text/plain": [
       "tuple"
      ]
     },
     "execution_count": 59,
     "metadata": {},
     "output_type": "execute_result"
    }
   ],
   "source": [
    "type(tup_2)"
   ]
  },
  {
   "cell_type": "code",
   "execution_count": 60,
   "id": "c41351a5",
   "metadata": {},
   "outputs": [],
   "source": [
    "tup_3 = tuple((1,2,3,4,3))"
   ]
  },
  {
   "cell_type": "code",
   "execution_count": 61,
   "id": "27bef1de",
   "metadata": {},
   "outputs": [
    {
     "data": {
      "text/plain": [
       "(1, 2, 3, 4, 3)"
      ]
     },
     "execution_count": 61,
     "metadata": {},
     "output_type": "execute_result"
    }
   ],
   "source": [
    "tup_3"
   ]
  },
  {
   "cell_type": "code",
   "execution_count": 62,
   "id": "2e601841",
   "metadata": {},
   "outputs": [
    {
     "data": {
      "text/plain": [
       "5"
      ]
     },
     "execution_count": 62,
     "metadata": {},
     "output_type": "execute_result"
    }
   ],
   "source": [
    "len(tup_3)"
   ]
  },
  {
   "cell_type": "code",
   "execution_count": 63,
   "id": "433a1cd1",
   "metadata": {},
   "outputs": [
    {
     "data": {
      "text/plain": [
       "1"
      ]
     },
     "execution_count": 63,
     "metadata": {},
     "output_type": "execute_result"
    }
   ],
   "source": [
    "tup_3[0]"
   ]
  },
  {
   "cell_type": "code",
   "execution_count": 64,
   "id": "e5935f00",
   "metadata": {},
   "outputs": [
    {
     "data": {
      "text/plain": [
       "3"
      ]
     },
     "execution_count": 64,
     "metadata": {},
     "output_type": "execute_result"
    }
   ],
   "source": [
    "tup_3[2]"
   ]
  },
  {
   "cell_type": "code",
   "execution_count": 65,
   "id": "74b741d6",
   "metadata": {},
   "outputs": [
    {
     "ename": "AttributeError",
     "evalue": "'tuple' object has no attribute 'append'",
     "output_type": "error",
     "traceback": [
      "\u001b[1;31m---------------------------------------------------------------------------\u001b[0m",
      "\u001b[1;31mAttributeError\u001b[0m                            Traceback (most recent call last)",
      "\u001b[1;32m~\\AppData\\Local\\Temp\\ipykernel_2008\\2336011855.py\u001b[0m in \u001b[0;36m<module>\u001b[1;34m\u001b[0m\n\u001b[1;32m----> 1\u001b[1;33m \u001b[0mtup_3\u001b[0m\u001b[1;33m.\u001b[0m\u001b[0mappend\u001b[0m\u001b[1;33m(\u001b[0m\u001b[1;36m2\u001b[0m\u001b[1;33m)\u001b[0m\u001b[1;33m\u001b[0m\u001b[1;33m\u001b[0m\u001b[0m\n\u001b[0m",
      "\u001b[1;31mAttributeError\u001b[0m: 'tuple' object has no attribute 'append'"
     ]
    }
   ],
   "source": [
    "tup_3.append(2)"
   ]
  },
  {
   "cell_type": "code",
   "execution_count": null,
   "id": "8cfb863c",
   "metadata": {},
   "outputs": [],
   "source": [
    "tup_3"
   ]
  },
  {
   "cell_type": "code",
   "execution_count": null,
   "id": "330e445a",
   "metadata": {},
   "outputs": [],
   "source": [
    "tup_3.count(3)"
   ]
  },
  {
   "cell_type": "code",
   "execution_count": null,
   "id": "9b48182f",
   "metadata": {},
   "outputs": [],
   "source": [
    "tup_3.count(1)"
   ]
  },
  {
   "cell_type": "code",
   "execution_count": null,
   "id": "c93e82e5",
   "metadata": {},
   "outputs": [],
   "source": [
    "tup_3.index(1)"
   ]
  },
  {
   "cell_type": "code",
   "execution_count": null,
   "id": "4295a52c",
   "metadata": {},
   "outputs": [],
   "source": [
    "tup_4 = (2,3,4)"
   ]
  },
  {
   "cell_type": "code",
   "execution_count": null,
   "id": "cfa2f285",
   "metadata": {},
   "outputs": [],
   "source": [
    "x,y,z = tup_4"
   ]
  },
  {
   "cell_type": "code",
   "execution_count": null,
   "id": "0c8ae831",
   "metadata": {},
   "outputs": [],
   "source": [
    "x"
   ]
  },
  {
   "cell_type": "code",
   "execution_count": null,
   "id": "e546951d",
   "metadata": {},
   "outputs": [],
   "source": [
    "y"
   ]
  },
  {
   "cell_type": "code",
   "execution_count": null,
   "id": "6bb1aba2",
   "metadata": {},
   "outputs": [],
   "source": [
    "z"
   ]
  },
  {
   "cell_type": "code",
   "execution_count": null,
   "id": "1fed3d7a",
   "metadata": {},
   "outputs": [],
   "source": [
    "tup_5 = (3,5,6)"
   ]
  },
  {
   "cell_type": "code",
   "execution_count": null,
   "id": "a7889fa5",
   "metadata": {},
   "outputs": [],
   "source": [
    "a,b,c = tup_5"
   ]
  },
  {
   "cell_type": "code",
   "execution_count": null,
   "id": "d7643a49",
   "metadata": {},
   "outputs": [],
   "source": []
  },
  {
   "cell_type": "markdown",
   "id": "14765250",
   "metadata": {},
   "source": [
    "### Set"
   ]
  },
  {
   "cell_type": "code",
   "execution_count": null,
   "id": "58fb3d12",
   "metadata": {},
   "outputs": [],
   "source": [
    "set_1 = {1,2,3,4}"
   ]
  },
  {
   "cell_type": "code",
   "execution_count": null,
   "id": "edb2a67c",
   "metadata": {},
   "outputs": [],
   "source": [
    "type(set_1)"
   ]
  },
  {
   "cell_type": "code",
   "execution_count": null,
   "id": "cc44bd18",
   "metadata": {},
   "outputs": [],
   "source": [
    "set_2 = set()"
   ]
  },
  {
   "cell_type": "code",
   "execution_count": null,
   "id": "26eef06d",
   "metadata": {},
   "outputs": [],
   "source": [
    "type(set_2)"
   ]
  },
  {
   "cell_type": "code",
   "execution_count": null,
   "id": "a89fa64f",
   "metadata": {},
   "outputs": [],
   "source": [
    "Is_1 = [3,4,23,3,2,3,2,3]"
   ]
  },
  {
   "cell_type": "code",
   "execution_count": null,
   "id": "2bbee38a",
   "metadata": {},
   "outputs": [],
   "source": [
    "set_3 = set(Is_1)"
   ]
  },
  {
   "cell_type": "code",
   "execution_count": null,
   "id": "fdfe92ba",
   "metadata": {},
   "outputs": [],
   "source": [
    "set_3"
   ]
  },
  {
   "cell_type": "code",
   "execution_count": null,
   "id": "2330af04",
   "metadata": {},
   "outputs": [],
   "source": [
    "set_2"
   ]
  },
  {
   "cell_type": "code",
   "execution_count": null,
   "id": "d694321e",
   "metadata": {},
   "outputs": [],
   "source": [
    "set_2 = {2,3,4,5,6,9}"
   ]
  },
  {
   "cell_type": "code",
   "execution_count": null,
   "id": "2ddb35d5",
   "metadata": {},
   "outputs": [],
   "source": [
    "set_2"
   ]
  },
  {
   "cell_type": "code",
   "execution_count": null,
   "id": "dae6e6a3",
   "metadata": {},
   "outputs": [],
   "source": [
    "set_2.pop()"
   ]
  },
  {
   "cell_type": "code",
   "execution_count": null,
   "id": "c599cec1",
   "metadata": {},
   "outputs": [],
   "source": [
    "set_2"
   ]
  },
  {
   "cell_type": "code",
   "execution_count": null,
   "id": "93fbd2a0",
   "metadata": {},
   "outputs": [],
   "source": [
    "set_2"
   ]
  },
  {
   "cell_type": "code",
   "execution_count": null,
   "id": "6fffe3ea",
   "metadata": {},
   "outputs": [],
   "source": [
    "\n"
   ]
  },
  {
   "cell_type": "markdown",
   "id": "2edfda9c",
   "metadata": {},
   "source": [
    "### Dictionary"
   ]
  },
  {
   "cell_type": "code",
   "execution_count": null,
   "id": "7c9ddbfe",
   "metadata": {},
   "outputs": [],
   "source": [
    "shop = {\"pencil\":25, \"eraser\":15, \"ruler\":5}"
   ]
  },
  {
   "cell_type": "code",
   "execution_count": null,
   "id": "4b1487f9",
   "metadata": {},
   "outputs": [],
   "source": [
    "type(shop)"
   ]
  },
  {
   "cell_type": "code",
   "execution_count": null,
   "id": "c7bdb84c",
   "metadata": {},
   "outputs": [],
   "source": [
    "shop.get(\"pencil\")"
   ]
  },
  {
   "cell_type": "code",
   "execution_count": null,
   "id": "f90dd00d",
   "metadata": {},
   "outputs": [],
   "source": [
    "shop.get(\"pen\",\"NA\")"
   ]
  },
  {
   "cell_type": "code",
   "execution_count": null,
   "id": "da2a9f82",
   "metadata": {},
   "outputs": [],
   "source": [
    "shop.items()"
   ]
  },
  {
   "cell_type": "code",
   "execution_count": null,
   "id": "f8322255",
   "metadata": {},
   "outputs": [],
   "source": [
    "shop[\"pencil\"]=20"
   ]
  },
  {
   "cell_type": "code",
   "execution_count": null,
   "id": "ce176c40",
   "metadata": {},
   "outputs": [],
   "source": [
    "print(shop)"
   ]
  },
  {
   "cell_type": "code",
   "execution_count": null,
   "id": "4e3b5190",
   "metadata": {},
   "outputs": [],
   "source": [
    "shop[\"pen\"]=50"
   ]
  },
  {
   "cell_type": "code",
   "execution_count": null,
   "id": "58695129",
   "metadata": {},
   "outputs": [],
   "source": [
    "print(shop)"
   ]
  },
  {
   "cell_type": "code",
   "execution_count": null,
   "id": "9116767a",
   "metadata": {},
   "outputs": [],
   "source": [
    "del shop[\"pencil\"]"
   ]
  },
  {
   "cell_type": "code",
   "execution_count": null,
   "id": "03da5e43",
   "metadata": {},
   "outputs": [],
   "source": [
    "print(shop)"
   ]
  },
  {
   "cell_type": "code",
   "execution_count": null,
   "id": "58fa33f7",
   "metadata": {},
   "outputs": [],
   "source": [
    "scores= {\"A\":[1,2,4,6], \"B\":[6,8,9.4], \"C\":[4,2,8,7]}"
   ]
  },
  {
   "cell_type": "code",
   "execution_count": null,
   "id": "280c389a",
   "metadata": {},
   "outputs": [],
   "source": [
    "type(scores)"
   ]
  },
  {
   "cell_type": "code",
   "execution_count": null,
   "id": "3fc216bf",
   "metadata": {},
   "outputs": [],
   "source": [
    "print(scores)"
   ]
  },
  {
   "cell_type": "code",
   "execution_count": null,
   "id": "38b36e11",
   "metadata": {},
   "outputs": [],
   "source": [
    "len(scores)"
   ]
  },
  {
   "cell_type": "code",
   "execution_count": null,
   "id": "4ce7c4f9",
   "metadata": {},
   "outputs": [],
   "source": [
    "sum(scores)"
   ]
  },
  {
   "cell_type": "code",
   "execution_count": null,
   "id": "b722e454",
   "metadata": {},
   "outputs": [],
   "source": [
    "if 5==5:\n",
    "    print(\"five\")"
   ]
  },
  {
   "cell_type": "code",
   "execution_count": null,
   "id": "1ba0227d",
   "metadata": {},
   "outputs": [],
   "source": [
    "if 5==6:\n",
    "    print(\"five\")\n",
    "else:\n",
    "    print(\"not equal\")"
   ]
  },
  {
   "cell_type": "code",
   "execution_count": null,
   "id": "a7638c0e",
   "metadata": {},
   "outputs": [],
   "source": [
    "user = input(\"A\")\n",
    "print(user)"
   ]
  },
  {
   "cell_type": "code",
   "execution_count": null,
   "id": "13586a9c",
   "metadata": {},
   "outputs": [],
   "source": [
    "if user==\"A\":\n",
    "   print(\"good\")\n",
    "else:\n",
    "     print(\"bad\")"
   ]
  },
  {
   "cell_type": "code",
   "execution_count": null,
   "id": "53023782",
   "metadata": {},
   "outputs": [],
   "source": [
    "num = int(input(\"input num\"))\n",
    "num"
   ]
  },
  {
   "cell_type": "code",
   "execution_count": null,
   "id": "d7b8cf3f",
   "metadata": {},
   "outputs": [],
   "source": [
    "if num < 10 :\n",
    "    print(\"less than 10\")\n",
    "else:\n",
    "    print(\"greater than 10\")"
   ]
  },
  {
   "cell_type": "code",
   "execution_count": null,
   "id": "5b36eaba",
   "metadata": {},
   "outputs": [],
   "source": []
  },
  {
   "cell_type": "markdown",
   "id": "fcec881c",
   "metadata": {},
   "source": [
    "### Else If"
   ]
  },
  {
   "cell_type": "code",
   "execution_count": null,
   "id": "b39437f7",
   "metadata": {},
   "outputs": [],
   "source": [
    "if num > 13 :\n",
    "    print(\"greater than 13\")\n",
    "elif num < 13:\n",
    "    print(\"less or equal to 10\")\n",
    "else:\n",
    "    print(\"negative\")"
   ]
  },
  {
   "cell_type": "code",
   "execution_count": null,
   "id": "56495e6d",
   "metadata": {},
   "outputs": [],
   "source": []
  },
  {
   "cell_type": "code",
   "execution_count": 67,
   "id": "8bcd18ce",
   "metadata": {},
   "outputs": [
    {
     "name": "stdout",
     "output_type": "stream",
     "text": [
      "input num5\n"
     ]
    },
    {
     "data": {
      "text/plain": [
       "5"
      ]
     },
     "execution_count": 67,
     "metadata": {},
     "output_type": "execute_result"
    }
   ],
   "source": [
    "dela = int(input(\"input num\"))\n",
    "dela"
   ]
  },
  {
   "cell_type": "code",
   "execution_count": 68,
   "id": "b842e5fb",
   "metadata": {},
   "outputs": [
    {
     "name": "stdout",
     "output_type": "stream",
     "text": [
      "5 is an odd number\n"
     ]
    }
   ],
   "source": [
    "if dela%2==0:\n",
    "    print(f\"{dela} is an even number\")\n",
    "else:\n",
    "    print(f\"{dela} is an odd number\")"
   ]
  },
  {
   "cell_type": "code",
   "execution_count": null,
   "id": "c43c0091",
   "metadata": {},
   "outputs": [],
   "source": []
  },
  {
   "cell_type": "markdown",
   "id": "9827d12d",
   "metadata": {},
   "source": [
    "### Looping"
   ]
  },
  {
   "cell_type": "code",
   "execution_count": 75,
   "id": "12ecb9c5",
   "metadata": {},
   "outputs": [
    {
     "name": "stdout",
     "output_type": "stream",
     "text": [
      "input num20\n"
     ]
    },
    {
     "data": {
      "text/plain": [
       "20"
      ]
     },
     "execution_count": 75,
     "metadata": {},
     "output_type": "execute_result"
    }
   ],
   "source": [
    "y = int(input(\"input num\"))\n",
    "y"
   ]
  },
  {
   "cell_type": "code",
   "execution_count": 76,
   "id": "ac147092",
   "metadata": {},
   "outputs": [
    {
     "name": "stdout",
     "output_type": "stream",
     "text": [
      "20 is even\n"
     ]
    }
   ],
   "source": [
    "if y>=0:\n",
    "    if y%2 ==0:\n",
    "        print(f\"{y} is even\")\n",
    "    else:\n",
    "        print(f\"{y} is odd\")\n",
    "else:\n",
    "    print(\"negative\")\n",
    "        "
   ]
  },
  {
   "cell_type": "code",
   "execution_count": 77,
   "id": "c1a45332",
   "metadata": {},
   "outputs": [
    {
     "name": "stdout",
     "output_type": "stream",
     "text": [
      "is positive\n",
      "20 is even\n"
     ]
    }
   ],
   "source": [
    "if y>=0:\n",
    "    print(\"is positive\")\n",
    "    if y%2 ==0:\n",
    "        print(f\"{y} is even\")\n",
    "    else:\n",
    "        print(f\"{y} is odd\")\n",
    "else:\n",
    "    print(\"negative\")\n",
    "        "
   ]
  },
  {
   "cell_type": "code",
   "execution_count": null,
   "id": "5540d7f5",
   "metadata": {},
   "outputs": [],
   "source": []
  },
  {
   "cell_type": "markdown",
   "id": "a16c6e92",
   "metadata": {},
   "source": [
    "### Fore Loops"
   ]
  },
  {
   "cell_type": "code",
   "execution_count": null,
   "id": "c6c8c9a8",
   "metadata": {},
   "outputs": [],
   "source": []
  },
  {
   "cell_type": "code",
   "execution_count": null,
   "id": "7fa6c97d",
   "metadata": {},
   "outputs": [],
   "source": []
  },
  {
   "cell_type": "markdown",
   "id": "7eedf049",
   "metadata": {},
   "source": [
    "### Basic Strings"
   ]
  },
  {
   "cell_type": "code",
   "execution_count": 94,
   "id": "05d9a739",
   "metadata": {},
   "outputs": [],
   "source": [
    "name = \"deladem\"\n",
    "letters = []\n",
    "for lad in name:\n",
    "    letters.append(lad)"
   ]
  },
  {
   "cell_type": "code",
   "execution_count": 95,
   "id": "e7d2fa09",
   "metadata": {},
   "outputs": [
    {
     "name": "stdout",
     "output_type": "stream",
     "text": [
      "['d', 'e', 'l', 'a', 'd', 'e', 'm']\n"
     ]
    }
   ],
   "source": [
    "print(letters)"
   ]
  },
  {
   "cell_type": "code",
   "execution_count": null,
   "id": "2ad88508",
   "metadata": {},
   "outputs": [],
   "source": []
  },
  {
   "cell_type": "markdown",
   "id": "e3bf1056",
   "metadata": {},
   "source": [
    "### Quiz"
   ]
  },
  {
   "cell_type": "code",
   "execution_count": 96,
   "id": "4fe854b4",
   "metadata": {},
   "outputs": [
    {
     "name": "stdout",
     "output_type": "stream",
     "text": [
      "12\n",
      "19\n",
      "20\n"
     ]
    }
   ],
   "source": [
    "Ist_5 = [5,12,19,6,20]\n",
    "for num in Ist_5:\n",
    "    if num>10:\n",
    "        print(num)\n"
   ]
  },
  {
   "cell_type": "code",
   "execution_count": 100,
   "id": "c17aedfc",
   "metadata": {},
   "outputs": [
    {
     "name": "stdout",
     "output_type": "stream",
     "text": [
      "5\n",
      "12\n",
      "19\n",
      "6\n",
      "20\n"
     ]
    }
   ],
   "source": [
    "Ist_5 = [5,12,19,6,20]\n",
    "for num in Ist_5:\n",
    "    if num>0:\n",
    "        print(num)"
   ]
  },
  {
   "cell_type": "code",
   "execution_count": null,
   "id": "0d72ccd7",
   "metadata": {},
   "outputs": [],
   "source": []
  },
  {
   "cell_type": "markdown",
   "id": "722ef85d",
   "metadata": {},
   "source": [
    "### Range"
   ]
  },
  {
   "cell_type": "code",
   "execution_count": 107,
   "id": "10b6d0be",
   "metadata": {},
   "outputs": [
    {
     "name": "stdout",
     "output_type": "stream",
     "text": [
      "100\n",
      "102\n",
      "104\n",
      "106\n",
      "108\n",
      "110\n",
      "112\n",
      "114\n",
      "116\n",
      "118\n",
      "120\n",
      "122\n",
      "124\n",
      "126\n",
      "128\n",
      "130\n",
      "132\n",
      "134\n",
      "136\n",
      "138\n",
      "140\n",
      "142\n",
      "144\n",
      "146\n",
      "148\n",
      "150\n",
      "152\n",
      "154\n",
      "156\n",
      "158\n",
      "160\n",
      "162\n",
      "164\n",
      "166\n",
      "168\n",
      "170\n",
      "172\n",
      "174\n",
      "176\n",
      "178\n",
      "180\n",
      "182\n",
      "184\n",
      "186\n",
      "188\n",
      "190\n",
      "192\n",
      "194\n",
      "196\n",
      "198\n",
      "200\n"
     ]
    }
   ],
   "source": [
    "for i in range(100,201,2):\n",
    "    print(i)"
   ]
  },
  {
   "cell_type": "code",
   "execution_count": 109,
   "id": "8c506e81",
   "metadata": {},
   "outputs": [],
   "source": [
    "b = []\n",
    "for i in range(100,201,2):\n",
    "    b.append(i)\n",
    "    "
   ]
  },
  {
   "cell_type": "code",
   "execution_count": 110,
   "id": "c7755984",
   "metadata": {},
   "outputs": [
    {
     "data": {
      "text/plain": [
       "7650"
      ]
     },
     "execution_count": 110,
     "metadata": {},
     "output_type": "execute_result"
    }
   ],
   "source": [
    "sum(b)"
   ]
  },
  {
   "cell_type": "code",
   "execution_count": null,
   "id": "c300e7a7",
   "metadata": {},
   "outputs": [],
   "source": []
  }
 ],
 "metadata": {
  "kernelspec": {
   "display_name": "Python 3 (ipykernel)",
   "language": "python",
   "name": "python3"
  },
  "language_info": {
   "codemirror_mode": {
    "name": "ipython",
    "version": 3
   },
   "file_extension": ".py",
   "mimetype": "text/x-python",
   "name": "python",
   "nbconvert_exporter": "python",
   "pygments_lexer": "ipython3",
   "version": "3.9.13"
  }
 },
 "nbformat": 4,
 "nbformat_minor": 5
}
