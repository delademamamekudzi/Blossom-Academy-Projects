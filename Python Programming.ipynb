{
 "cells": [
  {
   "cell_type": "markdown",
   "id": "eedbab56",
   "metadata": {},
   "source": [
    "### What is Python Programming?\n",
    "\n",
    "- Python is an interpreted, object-oriented, high-level programming language with dynamic semantics.\n",
    "\n",
    "\n",
    "- Python was developed by Guido van Rossum in the late 1980s and early 1990s. \n",
    "\n",
    "\n",
    "- It is widely used for web development, scientific computing, data analysis, game development, artificial intelligence, and  many more\n"
   ]
  },
  {
   "cell_type": "markdown",
   "id": "4d38cc43",
   "metadata": {},
   "source": [
    "### Why Python?\n",
    "\n",
    "- It is a general programming language which can be used in variety of tasks such as web development, scientific computing, data analysis, artificial intelligence, and many more.\n",
    "\n",
    "\n",
    "- The syntax of the language is designed to be easy to understand, making it a great choice for beginners learning to program.\n",
    "\n",
    "\n",
    "- It is open source i.e available to the public and can be freely modified and distributed.\n",
    "\n",
    "\n",
    "- Python can run on a variety of operating systems, including Windows, Mac, and Linux.\n",
    "\n",
    "\n",
    "- It has large community making it easy to get assistance.\n"
   ]
  },
  {
   "cell_type": "markdown",
   "id": "3c078a1f",
   "metadata": {},
   "source": [
    "### Installation of Python"
   ]
  },
  {
   "cell_type": "markdown",
   "id": "936b0e1b",
   "metadata": {},
   "source": [
    " - Python can be installed from the Python official [website](https://www.python.org/downloads/).\n",
    " \n",
    " \n",
    " - Alternatively it is recommeded for data professionals to install [Anaconda](https://www.anaconda.com/products/distribution) which comes with Python and addidtional libraries pre-installed and configured, making it easy to get started with data science, machine learning, and other scientific computing tasks. "
   ]
  },
  {
   "cell_type": "markdown",
   "id": "6a1057de",
   "metadata": {},
   "source": [
    "### Anaconda Navigator"
   ]
  },
  {
   "cell_type": "markdown",
   "id": "c8689211",
   "metadata": {},
   "source": [
    "Anaconda Navigator is a graphical user interface that comes with the Anaconda distribution of Python and R. It provides a simple and user-friendly way to manage packages, environments, and installed applications.\n",
    "\n",
    "The main features of Anaconda Navigator includes:"
   ]
  },
  {
   "cell_type": "markdown",
   "id": "17709202",
   "metadata": {},
   "source": [
    "- Package Management: Anaconda Navigator allows you to easily install, update, and remove packages using the conda package manager. It also provides an easy-to-use interface for creating and managing environments, which are isolated spaces where you can install packages and run applications without interfering with other environments.\n",
    "\n",
    "\n",
    "- Environment Management: Anaconda Navigator allows you to create and manage different environments, this means that you can have different versions of the same package installed in different environments and switch between them without conflicts.\n",
    "\n",
    "- Application Management: Anaconda Navigator comes with a number of pre-installed applications, such as Jupyter, Spyder, and RStudio, which are widely used in data science and scientific computing. It also allows you to launch and manage these applications from within the Navigator.\n",
    "\n",
    "\n",
    "- Integrated Terminal: Anaconda Navigator includes an integrated terminal, which allows you to run conda and other command-line commands directly from the Navigator.\n",
    "\n",
    "\n",
    "- Home Tab: The home tab provides a quick overview of the installed packages, recent environments, and installed applications.\n",
    "\n",
    "\n",
    "- Environments Tab: The environments tab provides an overview of the available environments, installed packages, and allows you to create new environments.\n",
    "\n",
    "\n",
    "- Installed Tab: The installed tab provides an overview of the installed packages and allows you to update, remove, and search for packages.\n",
    "\n",
    "\n",
    "- Community Tab: The community tab provides an overview of the packages available in the Anaconda repository, and allows you to search and install packages."
   ]
  },
  {
   "cell_type": "markdown",
   "id": "2e15738c",
   "metadata": {},
   "source": [
    "### Check Version of Python"
   ]
  },
  {
   "cell_type": "markdown",
   "id": "bd7f0fb6",
   "metadata": {},
   "source": [
    "- Launch the Anaconda Prompt\n",
    "\n",
    "\n",
    "- Check the version of Python by running the following command on your Anaconda prompt:"
   ]
  },
  {
   "cell_type": "markdown",
   "id": "ad3635bc",
   "metadata": {},
   "source": [
    "**python --version**"
   ]
  },
  {
   "cell_type": "code",
   "execution_count": 4,
   "id": "e1f4c8a4",
   "metadata": {},
   "outputs": [
    {
     "name": "stdout",
     "output_type": "stream",
     "text": [
      "Python 3.9.12\n"
     ]
    }
   ],
   "source": [
    "#Use this code for Jupyter Notebook\n",
    "!python --version"
   ]
  },
  {
   "cell_type": "code",
   "execution_count": null,
   "id": "f166fe23",
   "metadata": {},
   "outputs": [],
   "source": []
  }
 ],
 "metadata": {
  "kernelspec": {
   "display_name": "Python 3 (ipykernel)",
   "language": "python",
   "name": "python3"
  },
  "language_info": {
   "codemirror_mode": {
    "name": "ipython",
    "version": 3
   },
   "file_extension": ".py",
   "mimetype": "text/x-python",
   "name": "python",
   "nbconvert_exporter": "python",
   "pygments_lexer": "ipython3",
   "version": "3.9.13"
  }
 },
 "nbformat": 4,
 "nbformat_minor": 5
}
