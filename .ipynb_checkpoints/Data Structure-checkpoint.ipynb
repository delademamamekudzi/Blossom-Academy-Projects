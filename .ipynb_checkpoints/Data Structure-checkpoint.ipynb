{
 "cells": [
  {
   "cell_type": "markdown",
   "id": "6b56fae4",
   "metadata": {},
   "source": [
    "### Data Structure\n",
    "\n",
    "- List\n",
    "- Tuple\n",
    "- Set\n",
    "- Dictionary"
   ]
  },
  {
   "cell_type": "markdown",
   "id": "b843d62c",
   "metadata": {},
   "source": [
    "### List"
   ]
  },
  {
   "cell_type": "code",
   "execution_count": 1,
   "id": "a6c1f46d",
   "metadata": {},
   "outputs": [],
   "source": [
    "list_1 = list()"
   ]
  },
  {
   "cell_type": "code",
   "execution_count": 2,
   "id": "bf6910cb",
   "metadata": {},
   "outputs": [
    {
     "data": {
      "text/plain": [
       "list"
      ]
     },
     "execution_count": 2,
     "metadata": {},
     "output_type": "execute_result"
    }
   ],
   "source": [
    "type(list_1)"
   ]
  },
  {
   "cell_type": "code",
   "execution_count": 3,
   "id": "5c58992d",
   "metadata": {},
   "outputs": [],
   "source": [
    "list_2 = [1,2, \"Ama\", \"Kofi\",4]"
   ]
  },
  {
   "cell_type": "code",
   "execution_count": 4,
   "id": "03720519",
   "metadata": {},
   "outputs": [
    {
     "data": {
      "text/plain": [
       "list"
      ]
     },
     "execution_count": 4,
     "metadata": {},
     "output_type": "execute_result"
    }
   ],
   "source": [
    "type(list_2)"
   ]
  },
  {
   "cell_type": "code",
   "execution_count": 5,
   "id": "669ab34d",
   "metadata": {},
   "outputs": [],
   "source": [
    "list_3 = [1,2, [\"Ama\", \"Kofi\",\"Kwame\"],4]"
   ]
  },
  {
   "cell_type": "code",
   "execution_count": 6,
   "id": "fbb08f41",
   "metadata": {},
   "outputs": [
    {
     "data": {
      "text/plain": [
       "[1, 2, ['Ama', 'Kofi', 'Kwame'], 4]"
      ]
     },
     "execution_count": 6,
     "metadata": {},
     "output_type": "execute_result"
    }
   ],
   "source": [
    "list_3"
   ]
  },
  {
   "cell_type": "code",
   "execution_count": 7,
   "id": "aa1da958",
   "metadata": {},
   "outputs": [
    {
     "data": {
      "text/plain": [
       "list"
      ]
     },
     "execution_count": 7,
     "metadata": {},
     "output_type": "execute_result"
    }
   ],
   "source": [
    "type(list_3)"
   ]
  },
  {
   "cell_type": "code",
   "execution_count": 8,
   "id": "cdb57f1a",
   "metadata": {},
   "outputs": [
    {
     "data": {
      "text/plain": [
       "[1, 2, 'Ama', 'Kofi', 4]"
      ]
     },
     "execution_count": 8,
     "metadata": {},
     "output_type": "execute_result"
    }
   ],
   "source": [
    "list_2"
   ]
  },
  {
   "cell_type": "code",
   "execution_count": 9,
   "id": "7beb165a",
   "metadata": {},
   "outputs": [
    {
     "data": {
      "text/plain": [
       "'Ama'"
      ]
     },
     "execution_count": 9,
     "metadata": {},
     "output_type": "execute_result"
    }
   ],
   "source": [
    "list_2[2]"
   ]
  },
  {
   "cell_type": "code",
   "execution_count": 10,
   "id": "f90bb609",
   "metadata": {},
   "outputs": [
    {
     "data": {
      "text/plain": [
       "4"
      ]
     },
     "execution_count": 10,
     "metadata": {},
     "output_type": "execute_result"
    }
   ],
   "source": [
    "list_2[4]"
   ]
  },
  {
   "cell_type": "code",
   "execution_count": 11,
   "id": "ac5e95ee",
   "metadata": {},
   "outputs": [
    {
     "data": {
      "text/plain": [
       "4"
      ]
     },
     "execution_count": 11,
     "metadata": {},
     "output_type": "execute_result"
    }
   ],
   "source": [
    "list_2[-1]"
   ]
  },
  {
   "cell_type": "code",
   "execution_count": 12,
   "id": "1bb3b9d7",
   "metadata": {},
   "outputs": [
    {
     "data": {
      "text/plain": [
       "4"
      ]
     },
     "execution_count": 12,
     "metadata": {},
     "output_type": "execute_result"
    }
   ],
   "source": [
    "list_2[len(list_2)-1]"
   ]
  },
  {
   "cell_type": "code",
   "execution_count": 13,
   "id": "a9f71230",
   "metadata": {},
   "outputs": [
    {
     "data": {
      "text/plain": [
       "[1, 2, ['Ama', 'Kofi', 'Kwame'], 4]"
      ]
     },
     "execution_count": 13,
     "metadata": {},
     "output_type": "execute_result"
    }
   ],
   "source": [
    "list_3"
   ]
  },
  {
   "cell_type": "code",
   "execution_count": 14,
   "id": "2c687100",
   "metadata": {},
   "outputs": [
    {
     "data": {
      "text/plain": [
       "'Kofi'"
      ]
     },
     "execution_count": 14,
     "metadata": {},
     "output_type": "execute_result"
    }
   ],
   "source": [
    "list_3[2][1]"
   ]
  },
  {
   "cell_type": "code",
   "execution_count": 17,
   "id": "86c5406b",
   "metadata": {},
   "outputs": [
    {
     "data": {
      "text/plain": [
       "['Ama', 'Kofi', 'Kwame']"
      ]
     },
     "execution_count": 17,
     "metadata": {},
     "output_type": "execute_result"
    }
   ],
   "source": [
    "a=list_3[2]\n",
    "a"
   ]
  },
  {
   "cell_type": "code",
   "execution_count": 19,
   "id": "38756010",
   "metadata": {},
   "outputs": [
    {
     "data": {
      "text/plain": [
       "'Kofi'"
      ]
     },
     "execution_count": 19,
     "metadata": {},
     "output_type": "execute_result"
    }
   ],
   "source": [
    "kofi =a[1]\n",
    "kofi"
   ]
  },
  {
   "cell_type": "code",
   "execution_count": 21,
   "id": "4d4c8dfa",
   "metadata": {},
   "outputs": [
    {
     "data": {
      "text/plain": [
       "[1, 2, ['Ama', 'Kofi', 'Kwame'], 4]"
      ]
     },
     "execution_count": 21,
     "metadata": {},
     "output_type": "execute_result"
    }
   ],
   "source": [
    "list_3"
   ]
  },
  {
   "cell_type": "code",
   "execution_count": 22,
   "id": "26c1823a",
   "metadata": {},
   "outputs": [
    {
     "data": {
      "text/plain": [
       "['Kofi', 'Kwame']"
      ]
     },
     "execution_count": 22,
     "metadata": {},
     "output_type": "execute_result"
    }
   ],
   "source": [
    "list_3[2][1:3]"
   ]
  },
  {
   "cell_type": "markdown",
   "id": "4246d5dd",
   "metadata": {},
   "source": [
    "### Methods"
   ]
  },
  {
   "cell_type": "code",
   "execution_count": 23,
   "id": "d7cb6e4c",
   "metadata": {},
   "outputs": [
    {
     "data": {
      "text/plain": [
       "[1, 2, 'Ama', 'Kofi', 4]"
      ]
     },
     "execution_count": 23,
     "metadata": {},
     "output_type": "execute_result"
    }
   ],
   "source": [
    "list_2"
   ]
  },
  {
   "cell_type": "code",
   "execution_count": 24,
   "id": "9e71e472",
   "metadata": {},
   "outputs": [
    {
     "data": {
      "text/plain": [
       "5"
      ]
     },
     "execution_count": 24,
     "metadata": {},
     "output_type": "execute_result"
    }
   ],
   "source": [
    "len(list_2)"
   ]
  },
  {
   "cell_type": "code",
   "execution_count": 25,
   "id": "392105ee",
   "metadata": {},
   "outputs": [],
   "source": [
    "list_2.append(5)"
   ]
  },
  {
   "cell_type": "code",
   "execution_count": 26,
   "id": "d5c676bc",
   "metadata": {},
   "outputs": [
    {
     "data": {
      "text/plain": [
       "[1, 2, 'Ama', 'Kofi', 4, 5]"
      ]
     },
     "execution_count": 26,
     "metadata": {},
     "output_type": "execute_result"
    }
   ],
   "source": [
    "list_2"
   ]
  },
  {
   "cell_type": "code",
   "execution_count": 27,
   "id": "e37d5497",
   "metadata": {},
   "outputs": [],
   "source": [
    "list_2.append(\"Joana\")"
   ]
  },
  {
   "cell_type": "code",
   "execution_count": 28,
   "id": "024e4b8c",
   "metadata": {},
   "outputs": [
    {
     "data": {
      "text/plain": [
       "[1, 2, 'Ama', 'Kofi', 4, 5, 'Joana']"
      ]
     },
     "execution_count": 28,
     "metadata": {},
     "output_type": "execute_result"
    }
   ],
   "source": [
    "list_2"
   ]
  },
  {
   "cell_type": "code",
   "execution_count": 30,
   "id": "b9cb0ad5",
   "metadata": {},
   "outputs": [
    {
     "data": {
      "text/plain": [
       "7"
      ]
     },
     "execution_count": 30,
     "metadata": {},
     "output_type": "execute_result"
    }
   ],
   "source": [
    "len(list_2)"
   ]
  },
  {
   "cell_type": "code",
   "execution_count": 34,
   "id": "fb470d19",
   "metadata": {},
   "outputs": [],
   "source": [
    "list_2.insert(2,44)"
   ]
  },
  {
   "cell_type": "code",
   "execution_count": 35,
   "id": "b9f327ea",
   "metadata": {},
   "outputs": [
    {
     "data": {
      "text/plain": [
       "[1, 2, 44, 44, 'Ama', 'Kofi', 4, 5, 'Joana', 2]"
      ]
     },
     "execution_count": 35,
     "metadata": {},
     "output_type": "execute_result"
    }
   ],
   "source": [
    "list_2"
   ]
  },
  {
   "cell_type": "code",
   "execution_count": 36,
   "id": "810356c6",
   "metadata": {},
   "outputs": [],
   "source": [
    "list_2.extend([44,5,6])"
   ]
  },
  {
   "cell_type": "code",
   "execution_count": 37,
   "id": "e92a41c8",
   "metadata": {},
   "outputs": [
    {
     "data": {
      "text/plain": [
       "[1, 2, 44, 44, 'Ama', 'Kofi', 4, 5, 'Joana', 2, 44, 5, 6]"
      ]
     },
     "execution_count": 37,
     "metadata": {},
     "output_type": "execute_result"
    }
   ],
   "source": [
    "list_2"
   ]
  },
  {
   "cell_type": "code",
   "execution_count": 38,
   "id": "931e4a02",
   "metadata": {},
   "outputs": [
    {
     "data": {
      "text/plain": [
       "6"
      ]
     },
     "execution_count": 38,
     "metadata": {},
     "output_type": "execute_result"
    }
   ],
   "source": [
    "list_2.pop()"
   ]
  },
  {
   "cell_type": "code",
   "execution_count": 39,
   "id": "abf04294",
   "metadata": {},
   "outputs": [
    {
     "data": {
      "text/plain": [
       "12"
      ]
     },
     "execution_count": 39,
     "metadata": {},
     "output_type": "execute_result"
    }
   ],
   "source": [
    "len(list_2)"
   ]
  },
  {
   "cell_type": "code",
   "execution_count": 40,
   "id": "19ca8cd8",
   "metadata": {},
   "outputs": [
    {
     "data": {
      "text/plain": [
       "44"
      ]
     },
     "execution_count": 40,
     "metadata": {},
     "output_type": "execute_result"
    }
   ],
   "source": [
    "list_2.pop(2)"
   ]
  },
  {
   "cell_type": "code",
   "execution_count": 41,
   "id": "cdde1583",
   "metadata": {},
   "outputs": [
    {
     "data": {
      "text/plain": [
       "[1, 2, 44, 'Ama', 'Kofi', 4, 5, 'Joana', 2, 44, 5]"
      ]
     },
     "execution_count": 41,
     "metadata": {},
     "output_type": "execute_result"
    }
   ],
   "source": [
    "list_2"
   ]
  },
  {
   "cell_type": "code",
   "execution_count": 42,
   "id": "552dd0b2",
   "metadata": {},
   "outputs": [
    {
     "data": {
      "text/plain": [
       "11"
      ]
     },
     "execution_count": 42,
     "metadata": {},
     "output_type": "execute_result"
    }
   ],
   "source": [
    "len(list_2)"
   ]
  },
  {
   "cell_type": "code",
   "execution_count": 43,
   "id": "0ca37fbb",
   "metadata": {},
   "outputs": [
    {
     "data": {
      "text/plain": [
       "44"
      ]
     },
     "execution_count": 43,
     "metadata": {},
     "output_type": "execute_result"
    }
   ],
   "source": [
    "list_2.pop(-2)"
   ]
  },
  {
   "cell_type": "code",
   "execution_count": 44,
   "id": "e7426f70",
   "metadata": {},
   "outputs": [
    {
     "data": {
      "text/plain": [
       "10"
      ]
     },
     "execution_count": 44,
     "metadata": {},
     "output_type": "execute_result"
    }
   ],
   "source": [
    "len(list_2)"
   ]
  },
  {
   "cell_type": "code",
   "execution_count": 45,
   "id": "2bd85d9a",
   "metadata": {},
   "outputs": [],
   "source": [
    "list_2.append(2)"
   ]
  },
  {
   "cell_type": "code",
   "execution_count": 46,
   "id": "04449549",
   "metadata": {},
   "outputs": [
    {
     "data": {
      "text/plain": [
       "[1, 2, 44, 'Ama', 'Kofi', 4, 5, 'Joana', 2, 5, 2]"
      ]
     },
     "execution_count": 46,
     "metadata": {},
     "output_type": "execute_result"
    }
   ],
   "source": [
    "list_2"
   ]
  },
  {
   "cell_type": "code",
   "execution_count": 47,
   "id": "20ac5ab1",
   "metadata": {},
   "outputs": [],
   "source": [
    "list_2.remove(\"Ama\")"
   ]
  },
  {
   "cell_type": "code",
   "execution_count": 48,
   "id": "0c8ba512",
   "metadata": {},
   "outputs": [
    {
     "data": {
      "text/plain": [
       "[1, 2, 44, 'Kofi', 4, 5, 'Joana', 2, 5, 2]"
      ]
     },
     "execution_count": 48,
     "metadata": {},
     "output_type": "execute_result"
    }
   ],
   "source": [
    "list_2"
   ]
  },
  {
   "cell_type": "code",
   "execution_count": 50,
   "id": "6152de53",
   "metadata": {},
   "outputs": [],
   "source": [
    "list_2[1] = \"Kojo\""
   ]
  },
  {
   "cell_type": "code",
   "execution_count": 51,
   "id": "c5ecd786",
   "metadata": {},
   "outputs": [
    {
     "data": {
      "text/plain": [
       "[1, 'Kojo', 44, 'Kofi', 4, 5, 'Joana', 2, 5, 2]"
      ]
     },
     "execution_count": 51,
     "metadata": {},
     "output_type": "execute_result"
    }
   ],
   "source": [
    "list_2"
   ]
  },
  {
   "cell_type": "code",
   "execution_count": 52,
   "id": "648e3385",
   "metadata": {},
   "outputs": [],
   "source": [
    "list_4 = [3,2,6,7,9,11]"
   ]
  },
  {
   "cell_type": "code",
   "execution_count": 53,
   "id": "1492d07f",
   "metadata": {},
   "outputs": [],
   "source": [
    "list_4.sort()"
   ]
  },
  {
   "cell_type": "code",
   "execution_count": 54,
   "id": "a5fcd3e7",
   "metadata": {},
   "outputs": [
    {
     "data": {
      "text/plain": [
       "[2, 3, 6, 7, 9, 11]"
      ]
     },
     "execution_count": 54,
     "metadata": {},
     "output_type": "execute_result"
    }
   ],
   "source": [
    "list_4"
   ]
  },
  {
   "cell_type": "code",
   "execution_count": 55,
   "id": "6af76c11",
   "metadata": {},
   "outputs": [],
   "source": [
    "list_4.sort(reverse=True)"
   ]
  },
  {
   "cell_type": "code",
   "execution_count": 56,
   "id": "72a40f2f",
   "metadata": {},
   "outputs": [
    {
     "data": {
      "text/plain": [
       "[11, 9, 7, 6, 3, 2]"
      ]
     },
     "execution_count": 56,
     "metadata": {},
     "output_type": "execute_result"
    }
   ],
   "source": [
    "list_4"
   ]
  },
  {
   "cell_type": "code",
   "execution_count": 57,
   "id": "c50cdee1",
   "metadata": {},
   "outputs": [
    {
     "data": {
      "text/plain": [
       "11"
      ]
     },
     "execution_count": 57,
     "metadata": {},
     "output_type": "execute_result"
    }
   ],
   "source": [
    "max(list_4)"
   ]
  },
  {
   "cell_type": "code",
   "execution_count": 58,
   "id": "433567d5",
   "metadata": {},
   "outputs": [
    {
     "data": {
      "text/plain": [
       "38"
      ]
     },
     "execution_count": 58,
     "metadata": {},
     "output_type": "execute_result"
    }
   ],
   "source": [
    "sum(list_4)"
   ]
  },
  {
   "cell_type": "code",
   "execution_count": 59,
   "id": "cba5a76a",
   "metadata": {},
   "outputs": [
    {
     "data": {
      "text/plain": [
       "[11, 9, 7, 6, 3, 2]"
      ]
     },
     "execution_count": 59,
     "metadata": {},
     "output_type": "execute_result"
    }
   ],
   "source": [
    "list_4"
   ]
  },
  {
   "cell_type": "code",
   "execution_count": 60,
   "id": "ff4f8ee0",
   "metadata": {},
   "outputs": [
    {
     "data": {
      "text/plain": [
       "False"
      ]
     },
     "execution_count": 60,
     "metadata": {},
     "output_type": "execute_result"
    }
   ],
   "source": [
    "5 in list_4"
   ]
  },
  {
   "cell_type": "code",
   "execution_count": 61,
   "id": "0e37d4db",
   "metadata": {},
   "outputs": [
    {
     "data": {
      "text/plain": [
       "True"
      ]
     },
     "execution_count": 61,
     "metadata": {},
     "output_type": "execute_result"
    }
   ],
   "source": [
    "5 not in list_4"
   ]
  },
  {
   "cell_type": "code",
   "execution_count": 62,
   "id": "9e984c94",
   "metadata": {},
   "outputs": [],
   "source": [
    "list_4.clear()"
   ]
  },
  {
   "cell_type": "code",
   "execution_count": 63,
   "id": "1583a65c",
   "metadata": {},
   "outputs": [
    {
     "data": {
      "text/plain": [
       "[]"
      ]
     },
     "execution_count": 63,
     "metadata": {},
     "output_type": "execute_result"
    }
   ],
   "source": [
    "list_4"
   ]
  },
  {
   "cell_type": "code",
   "execution_count": 64,
   "id": "9cb39f4a",
   "metadata": {},
   "outputs": [
    {
     "data": {
      "text/plain": [
       "0"
      ]
     },
     "execution_count": 64,
     "metadata": {},
     "output_type": "execute_result"
    }
   ],
   "source": [
    "len(list_4)"
   ]
  },
  {
   "cell_type": "markdown",
   "id": "a23a7f03",
   "metadata": {},
   "source": [
    "### Tuple"
   ]
  },
  {
   "cell_type": "code",
   "execution_count": 65,
   "id": "71687127",
   "metadata": {},
   "outputs": [],
   "source": [
    "tup_1 =()\n"
   ]
  },
  {
   "cell_type": "code",
   "execution_count": 66,
   "id": "5ca587ae",
   "metadata": {},
   "outputs": [
    {
     "data": {
      "text/plain": [
       "tuple"
      ]
     },
     "execution_count": 66,
     "metadata": {},
     "output_type": "execute_result"
    }
   ],
   "source": [
    "type(tup_1)"
   ]
  },
  {
   "cell_type": "code",
   "execution_count": 67,
   "id": "74359dd5",
   "metadata": {},
   "outputs": [],
   "source": [
    "tup_2 = tuple()"
   ]
  },
  {
   "cell_type": "code",
   "execution_count": 68,
   "id": "638206d6",
   "metadata": {},
   "outputs": [
    {
     "data": {
      "text/plain": [
       "tuple"
      ]
     },
     "execution_count": 68,
     "metadata": {},
     "output_type": "execute_result"
    }
   ],
   "source": [
    "type(tup_2)"
   ]
  },
  {
   "cell_type": "code",
   "execution_count": 69,
   "id": "d92271d9",
   "metadata": {},
   "outputs": [],
   "source": [
    "tup_3 = tuple((1,2,3,4,3))"
   ]
  },
  {
   "cell_type": "code",
   "execution_count": 70,
   "id": "e5cbbf5d",
   "metadata": {},
   "outputs": [
    {
     "data": {
      "text/plain": [
       "(1, 2, 3, 4, 3)"
      ]
     },
     "execution_count": 70,
     "metadata": {},
     "output_type": "execute_result"
    }
   ],
   "source": [
    "tup_3"
   ]
  },
  {
   "cell_type": "code",
   "execution_count": 71,
   "id": "109e29f2",
   "metadata": {},
   "outputs": [
    {
     "data": {
      "text/plain": [
       "5"
      ]
     },
     "execution_count": 71,
     "metadata": {},
     "output_type": "execute_result"
    }
   ],
   "source": [
    "len(tup_3)"
   ]
  },
  {
   "cell_type": "code",
   "execution_count": 72,
   "id": "f778b6f7",
   "metadata": {},
   "outputs": [
    {
     "data": {
      "text/plain": [
       "1"
      ]
     },
     "execution_count": 72,
     "metadata": {},
     "output_type": "execute_result"
    }
   ],
   "source": [
    "tup_3[0]"
   ]
  },
  {
   "cell_type": "code",
   "execution_count": 73,
   "id": "2dc3b37c",
   "metadata": {},
   "outputs": [
    {
     "data": {
      "text/plain": [
       "3"
      ]
     },
     "execution_count": 73,
     "metadata": {},
     "output_type": "execute_result"
    }
   ],
   "source": [
    "tup_3[2]"
   ]
  },
  {
   "cell_type": "code",
   "execution_count": 74,
   "id": "f5ca7d23",
   "metadata": {},
   "outputs": [
    {
     "ename": "AttributeError",
     "evalue": "'tuple' object has no attribute 'append'",
     "output_type": "error",
     "traceback": [
      "\u001b[1;31m---------------------------------------------------------------------------\u001b[0m",
      "\u001b[1;31mAttributeError\u001b[0m                            Traceback (most recent call last)",
      "\u001b[1;32m~\\AppData\\Local\\Temp\\ipykernel_2940\\2336011855.py\u001b[0m in \u001b[0;36m<module>\u001b[1;34m\u001b[0m\n\u001b[1;32m----> 1\u001b[1;33m \u001b[0mtup_3\u001b[0m\u001b[1;33m.\u001b[0m\u001b[0mappend\u001b[0m\u001b[1;33m(\u001b[0m\u001b[1;36m2\u001b[0m\u001b[1;33m)\u001b[0m\u001b[1;33m\u001b[0m\u001b[1;33m\u001b[0m\u001b[0m\n\u001b[0m",
      "\u001b[1;31mAttributeError\u001b[0m: 'tuple' object has no attribute 'append'"
     ]
    }
   ],
   "source": [
    "tup_3.append(2)"
   ]
  },
  {
   "cell_type": "code",
   "execution_count": 75,
   "id": "cbc899ca",
   "metadata": {},
   "outputs": [
    {
     "data": {
      "text/plain": [
       "(1, 2, 3, 4, 3)"
      ]
     },
     "execution_count": 75,
     "metadata": {},
     "output_type": "execute_result"
    }
   ],
   "source": [
    "tup_3"
   ]
  },
  {
   "cell_type": "code",
   "execution_count": 76,
   "id": "c66bb67b",
   "metadata": {},
   "outputs": [
    {
     "data": {
      "text/plain": [
       "2"
      ]
     },
     "execution_count": 76,
     "metadata": {},
     "output_type": "execute_result"
    }
   ],
   "source": [
    "tup_3.count(3)"
   ]
  },
  {
   "cell_type": "code",
   "execution_count": 77,
   "id": "5dbc15cb",
   "metadata": {},
   "outputs": [
    {
     "data": {
      "text/plain": [
       "1"
      ]
     },
     "execution_count": 77,
     "metadata": {},
     "output_type": "execute_result"
    }
   ],
   "source": [
    "tup_3.count(1)"
   ]
  },
  {
   "cell_type": "code",
   "execution_count": 78,
   "id": "85aab339",
   "metadata": {},
   "outputs": [
    {
     "data": {
      "text/plain": [
       "0"
      ]
     },
     "execution_count": 78,
     "metadata": {},
     "output_type": "execute_result"
    }
   ],
   "source": [
    "tup_3.index(1)"
   ]
  },
  {
   "cell_type": "code",
   "execution_count": 79,
   "id": "d71d27bf",
   "metadata": {},
   "outputs": [],
   "source": [
    "tup_4 = (2,3,4)"
   ]
  },
  {
   "cell_type": "code",
   "execution_count": 80,
   "id": "b5fcf6ac",
   "metadata": {},
   "outputs": [],
   "source": [
    "x,y,z = tup_4"
   ]
  },
  {
   "cell_type": "code",
   "execution_count": 81,
   "id": "28a6f126",
   "metadata": {},
   "outputs": [
    {
     "data": {
      "text/plain": [
       "2"
      ]
     },
     "execution_count": 81,
     "metadata": {},
     "output_type": "execute_result"
    }
   ],
   "source": [
    "x"
   ]
  },
  {
   "cell_type": "code",
   "execution_count": 82,
   "id": "caab4971",
   "metadata": {},
   "outputs": [
    {
     "data": {
      "text/plain": [
       "3"
      ]
     },
     "execution_count": 82,
     "metadata": {},
     "output_type": "execute_result"
    }
   ],
   "source": [
    "y"
   ]
  },
  {
   "cell_type": "code",
   "execution_count": 83,
   "id": "fba234f4",
   "metadata": {},
   "outputs": [
    {
     "data": {
      "text/plain": [
       "4"
      ]
     },
     "execution_count": 83,
     "metadata": {},
     "output_type": "execute_result"
    }
   ],
   "source": [
    "z"
   ]
  },
  {
   "cell_type": "code",
   "execution_count": 84,
   "id": "6a79ec41",
   "metadata": {},
   "outputs": [],
   "source": [
    "tup_5 = (3,5,6)"
   ]
  },
  {
   "cell_type": "code",
   "execution_count": 85,
   "id": "bb1960ce",
   "metadata": {},
   "outputs": [],
   "source": [
    "a,b,c = tup_5"
   ]
  },
  {
   "cell_type": "code",
   "execution_count": null,
   "id": "358f6b65",
   "metadata": {},
   "outputs": [],
   "source": []
  },
  {
   "cell_type": "markdown",
   "id": "37ed4740",
   "metadata": {},
   "source": [
    "### Set"
   ]
  },
  {
   "cell_type": "code",
   "execution_count": 88,
   "id": "ddafd590",
   "metadata": {},
   "outputs": [],
   "source": [
    "set_1 = {1,2,3,4}"
   ]
  },
  {
   "cell_type": "code",
   "execution_count": 89,
   "id": "5d8ecad5",
   "metadata": {},
   "outputs": [
    {
     "data": {
      "text/plain": [
       "set"
      ]
     },
     "execution_count": 89,
     "metadata": {},
     "output_type": "execute_result"
    }
   ],
   "source": [
    "type(set_1)"
   ]
  },
  {
   "cell_type": "code",
   "execution_count": 90,
   "id": "0bbfa515",
   "metadata": {},
   "outputs": [],
   "source": [
    "set_2 = set()"
   ]
  },
  {
   "cell_type": "code",
   "execution_count": 91,
   "id": "e6569832",
   "metadata": {},
   "outputs": [
    {
     "data": {
      "text/plain": [
       "set"
      ]
     },
     "execution_count": 91,
     "metadata": {},
     "output_type": "execute_result"
    }
   ],
   "source": [
    "type(set_2)"
   ]
  },
  {
   "cell_type": "code",
   "execution_count": 93,
   "id": "f91ee302",
   "metadata": {},
   "outputs": [],
   "source": [
    "Is_1 = [3,4,23,3,2,3,2,3]"
   ]
  },
  {
   "cell_type": "code",
   "execution_count": 95,
   "id": "f8010857",
   "metadata": {},
   "outputs": [],
   "source": [
    "set_3 = set(Is_1)"
   ]
  },
  {
   "cell_type": "code",
   "execution_count": 96,
   "id": "6e3ae6ad",
   "metadata": {},
   "outputs": [
    {
     "data": {
      "text/plain": [
       "{2, 3, 4, 23}"
      ]
     },
     "execution_count": 96,
     "metadata": {},
     "output_type": "execute_result"
    }
   ],
   "source": [
    "set_3"
   ]
  },
  {
   "cell_type": "code",
   "execution_count": 97,
   "id": "20063bdc",
   "metadata": {},
   "outputs": [
    {
     "data": {
      "text/plain": [
       "set()"
      ]
     },
     "execution_count": 97,
     "metadata": {},
     "output_type": "execute_result"
    }
   ],
   "source": [
    "set_2"
   ]
  },
  {
   "cell_type": "code",
   "execution_count": 98,
   "id": "9e9299b6",
   "metadata": {},
   "outputs": [],
   "source": [
    "set_2 = {2,3,4,5,6,9}"
   ]
  },
  {
   "cell_type": "code",
   "execution_count": 99,
   "id": "de6b300f",
   "metadata": {},
   "outputs": [
    {
     "data": {
      "text/plain": [
       "{2, 3, 4, 5, 6, 9}"
      ]
     },
     "execution_count": 99,
     "metadata": {},
     "output_type": "execute_result"
    }
   ],
   "source": [
    "set_2"
   ]
  },
  {
   "cell_type": "code",
   "execution_count": 101,
   "id": "9e57cb4c",
   "metadata": {},
   "outputs": [
    {
     "data": {
      "text/plain": [
       "2"
      ]
     },
     "execution_count": 101,
     "metadata": {},
     "output_type": "execute_result"
    }
   ],
   "source": [
    "set_2.pop()"
   ]
  },
  {
   "cell_type": "code",
   "execution_count": 102,
   "id": "10c97067",
   "metadata": {},
   "outputs": [
    {
     "data": {
      "text/plain": [
       "{3, 4, 5, 6, 9}"
      ]
     },
     "execution_count": 102,
     "metadata": {},
     "output_type": "execute_result"
    }
   ],
   "source": [
    "set_2"
   ]
  },
  {
   "cell_type": "code",
   "execution_count": 106,
   "id": "8f5fe3a5",
   "metadata": {},
   "outputs": [
    {
     "data": {
      "text/plain": [
       "{3, 4, 5, 6, 9}"
      ]
     },
     "execution_count": 106,
     "metadata": {},
     "output_type": "execute_result"
    }
   ],
   "source": [
    "set_2"
   ]
  },
  {
   "cell_type": "code",
   "execution_count": null,
   "id": "a5931d47",
   "metadata": {},
   "outputs": [],
   "source": [
    "\n"
   ]
  },
  {
   "cell_type": "markdown",
   "id": "a1b681d0",
   "metadata": {},
   "source": [
    "### Dictionary"
   ]
  },
  {
   "cell_type": "code",
   "execution_count": 108,
   "id": "83ec2cdd",
   "metadata": {},
   "outputs": [],
   "source": [
    "shop = {\"pencil\":25, \"eraser\":15, \"ruler\":5}"
   ]
  },
  {
   "cell_type": "code",
   "execution_count": 109,
   "id": "a7658d73",
   "metadata": {},
   "outputs": [
    {
     "data": {
      "text/plain": [
       "dict"
      ]
     },
     "execution_count": 109,
     "metadata": {},
     "output_type": "execute_result"
    }
   ],
   "source": [
    "type(shop)"
   ]
  },
  {
   "cell_type": "code",
   "execution_count": 112,
   "id": "a58bd269",
   "metadata": {},
   "outputs": [
    {
     "data": {
      "text/plain": [
       "25"
      ]
     },
     "execution_count": 112,
     "metadata": {},
     "output_type": "execute_result"
    }
   ],
   "source": [
    "shop.get(\"pencil\")"
   ]
  },
  {
   "cell_type": "code",
   "execution_count": null,
   "id": "cbe22603",
   "metadata": {},
   "outputs": [],
   "source": []
  }
 ],
 "metadata": {
  "kernelspec": {
   "display_name": "Python 3 (ipykernel)",
   "language": "python",
   "name": "python3"
  },
  "language_info": {
   "codemirror_mode": {
    "name": "ipython",
    "version": 3
   },
   "file_extension": ".py",
   "mimetype": "text/x-python",
   "name": "python",
   "nbconvert_exporter": "python",
   "pygments_lexer": "ipython3",
   "version": "3.9.13"
  }
 },
 "nbformat": 4,
 "nbformat_minor": 5
}
