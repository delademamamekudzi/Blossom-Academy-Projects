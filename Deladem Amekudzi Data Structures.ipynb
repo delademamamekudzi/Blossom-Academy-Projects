{
 "cells": [
  {
   "cell_type": "markdown",
   "id": "3c2e90df",
   "metadata": {},
   "source": [
    "### Q1\n",
    "\n",
    "Name the four built-in data structures in python. Give one examples for each"
   ]
  },
  {
   "cell_type": "code",
   "execution_count": 1,
   "id": "c28039ac",
   "metadata": {},
   "outputs": [],
   "source": [
    "# list\n",
    "x = [1,2,3,4]\n",
    "# Tuple\n",
    "tup_1= (1,2,3)\n",
    "# Set\n",
    "z = {2,5,7,4}\n",
    "# Dictionary\n",
    "u = {\"pencil\": 25, \"pin\":54}"
   ]
  },
  {
   "cell_type": "markdown",
   "id": "b6e1dd1b",
   "metadata": {},
   "source": [
    "### Q2\n",
    "\n",
    "State two differences between a list and a tuple in Python."
   ]
  },
  {
   "cell_type": "code",
   "execution_count": null,
   "id": "7228c858",
   "metadata": {},
   "outputs": [],
   "source": [
    "#The length of a tuple is fixed, whereas the length of a list is variable\n",
    "#Tuples are immutable in nature wheras list are not"
   ]
  },
  {
   "cell_type": "markdown",
   "id": "815b4e67",
   "metadata": {},
   "source": [
    "### Q3\n",
    "Make a list containing names of five animals with a variable name `animal_list`\n",
    "\n",
    "Write a code for the following:\n",
    "- Print the first two animals\n",
    "- Print the last two animals\n",
    "- Add three extra animals to the variable `animal_list`\n",
    "- Remove the first two animals from the variable `animal_list`\n",
    "- How many animals are in the `animal_list`?\n",
    "- Create a variable animal_set which stores the set of animal_list \n",
    "- How many elements are in the animal_set?\n"
   ]
  },
  {
   "cell_type": "code",
   "execution_count": 27,
   "id": "55adb79e",
   "metadata": {},
   "outputs": [],
   "source": [
    "animal_list = [\"sheep\",\"cat\",\"dog\",\"mouse\",\"lion\"]"
   ]
  },
  {
   "cell_type": "code",
   "execution_count": 28,
   "id": "c2690b17",
   "metadata": {},
   "outputs": [
    {
     "name": "stdout",
     "output_type": "stream",
     "text": [
      "['sheep', 'cat']\n"
     ]
    }
   ],
   "source": [
    "print(animal_list[:2])"
   ]
  },
  {
   "cell_type": "code",
   "execution_count": 29,
   "id": "1dd7a329",
   "metadata": {},
   "outputs": [
    {
     "name": "stdout",
     "output_type": "stream",
     "text": [
      "['mouse', 'lion']\n"
     ]
    }
   ],
   "source": [
    "print(animal_list[-2:])"
   ]
  },
  {
   "cell_type": "code",
   "execution_count": 30,
   "id": "09d318c6",
   "metadata": {},
   "outputs": [],
   "source": [
    "animal_list.append(\"goat\")"
   ]
  },
  {
   "cell_type": "code",
   "execution_count": 31,
   "id": "101caf40",
   "metadata": {},
   "outputs": [],
   "source": [
    "animal_list.append(\"zebra\")"
   ]
  },
  {
   "cell_type": "code",
   "execution_count": 32,
   "id": "afa8955d",
   "metadata": {},
   "outputs": [],
   "source": [
    "animal_list.append(\"bear\")"
   ]
  },
  {
   "cell_type": "code",
   "execution_count": 23,
   "id": "79614af5",
   "metadata": {},
   "outputs": [
    {
     "name": "stdout",
     "output_type": "stream",
     "text": [
      "['sheep', 'cat', 'dog', 'mouse', 'lion', 'goat', 'zebra', 'bear']\n"
     ]
    }
   ],
   "source": [
    "print(animal_list)"
   ]
  },
  {
   "cell_type": "code",
   "execution_count": 33,
   "id": "e9170a47",
   "metadata": {},
   "outputs": [],
   "source": [
    "del(animal_list[:2])"
   ]
  },
  {
   "cell_type": "code",
   "execution_count": 34,
   "id": "9f527559",
   "metadata": {},
   "outputs": [
    {
     "data": {
      "text/plain": [
       "6"
      ]
     },
     "execution_count": 34,
     "metadata": {},
     "output_type": "execute_result"
    }
   ],
   "source": [
    "len(animal_list)"
   ]
  },
  {
   "cell_type": "code",
   "execution_count": 35,
   "id": "48b44627",
   "metadata": {},
   "outputs": [
    {
     "data": {
      "text/plain": [
       "{'bear', 'dog', 'goat', 'lion', 'mouse', 'zebra'}"
      ]
     },
     "execution_count": 35,
     "metadata": {},
     "output_type": "execute_result"
    }
   ],
   "source": [
    "animal_set = set(animal_list)\n",
    "animal_set"
   ]
  },
  {
   "cell_type": "code",
   "execution_count": 36,
   "id": "e1bde0ab",
   "metadata": {},
   "outputs": [
    {
     "data": {
      "text/plain": [
       "6"
      ]
     },
     "execution_count": 36,
     "metadata": {},
     "output_type": "execute_result"
    }
   ],
   "source": [
    "len(animal_set)"
   ]
  },
  {
   "cell_type": "markdown",
   "id": "113c9970",
   "metadata": {},
   "source": [
    "### Q4\n",
    "\n",
    "Given a list:\n",
    "\n",
    "suitcase = [\"sunglasses\", \"hat\", \"passport\", \"laptop\", \"suit\", \"shoes\"]\n",
    "\n",
    "a. Create a list called first containing only the two first items from suitcase.\n",
    "\n",
    "b. Create a list called middle containing only the two middle items from suitcase.\n",
    "\n",
    "c. Create a list called last made up only of the last two items from suitcase."
   ]
  },
  {
   "cell_type": "code",
   "execution_count": 37,
   "id": "73fb4825",
   "metadata": {},
   "outputs": [],
   "source": [
    "suitcase = [\"sunglasses\", \"hat\", \"passport\", \"laptop\", \"suit\", \"shoes\"]"
   ]
  },
  {
   "cell_type": "code",
   "execution_count": 39,
   "id": "f7644b2c",
   "metadata": {},
   "outputs": [
    {
     "data": {
      "text/plain": [
       "['sunglasses', 'hat']"
      ]
     },
     "execution_count": 39,
     "metadata": {},
     "output_type": "execute_result"
    }
   ],
   "source": [
    "first = suitcase[:2]\n",
    "first"
   ]
  },
  {
   "cell_type": "code",
   "execution_count": 43,
   "id": "d462b3a0",
   "metadata": {},
   "outputs": [
    {
     "data": {
      "text/plain": [
       "['passport', 'laptop']"
      ]
     },
     "execution_count": 43,
     "metadata": {},
     "output_type": "execute_result"
    }
   ],
   "source": [
    "middle = suitcase[2:4]\n",
    "middle"
   ]
  },
  {
   "cell_type": "code",
   "execution_count": 45,
   "id": "2129b75a",
   "metadata": {},
   "outputs": [
    {
     "data": {
      "text/plain": [
       "['suit', 'shoes']"
      ]
     },
     "execution_count": 45,
     "metadata": {},
     "output_type": "execute_result"
    }
   ],
   "source": [
    "last = suitcase[-2:]\n",
    "last"
   ]
  },
  {
   "cell_type": "markdown",
   "id": "711ba044",
   "metadata": {},
   "source": [
    "### Q5\n",
    "Write a python code to insert 35 into the list below. Make sure it is inserted in the right position to maintain the order of the data.\n",
    "\n",
    "`values = [20,25,30,40,45,50,55,60,65,70]`"
   ]
  },
  {
   "cell_type": "code",
   "execution_count": 51,
   "id": "3c6d719a",
   "metadata": {},
   "outputs": [],
   "source": [
    "values = [20,25,30,40,45,50,55,60,65,70]\n"
   ]
  },
  {
   "cell_type": "code",
   "execution_count": 52,
   "id": "a2065683",
   "metadata": {},
   "outputs": [
    {
     "data": {
      "text/plain": [
       "[20, 25, 30, 35, 40, 45, 50, 55, 60, 65, 70]"
      ]
     },
     "execution_count": 52,
     "metadata": {},
     "output_type": "execute_result"
    }
   ],
   "source": [
    "values.insert(3,35)\n",
    "values"
   ]
  },
  {
   "cell_type": "markdown",
   "id": "f535cf64",
   "metadata": {},
   "source": [
    "### Q6\n",
    "\n",
    "Given that Python lists and Python tuples are quite similar – when might you prefer to use a tuple over a list?"
   ]
  },
  {
   "cell_type": "code",
   "execution_count": null,
   "id": "94a84720",
   "metadata": {},
   "outputs": [],
   "source": [
    "When the elements are fixed like days of the week"
   ]
  },
  {
   "cell_type": "markdown",
   "id": "346927f6",
   "metadata": {},
   "source": [
    "### Q7\n",
    "Create a dictionary with 5 Ghana regions and their capitals and store it in the variable `region_capital`\n",
    "\n",
    "- Print out the keys of region_capital\n",
    "- Print out the values of region_capital\n"
   ]
  },
  {
   "cell_type": "code",
   "execution_count": 53,
   "id": "5b15750c",
   "metadata": {},
   "outputs": [],
   "source": [
    "region_capital = {\"Volta\":\"Ho\",\"Ashanti\":\"Kumasi\",\"Northen\":\"Tamale\",\"Eastern\":\"Koforidua\",\"Western\":\"Takoradi\"}"
   ]
  },
  {
   "cell_type": "code",
   "execution_count": 56,
   "id": "1989b104",
   "metadata": {},
   "outputs": [
    {
     "name": "stdout",
     "output_type": "stream",
     "text": [
      "dict_keys(['Volta', 'Ashanti', 'Northen', 'Eastern', 'Western'])\n"
     ]
    }
   ],
   "source": [
    "print(region_capital.keys())"
   ]
  },
  {
   "cell_type": "code",
   "execution_count": 57,
   "id": "9025664f",
   "metadata": {},
   "outputs": [
    {
     "name": "stdout",
     "output_type": "stream",
     "text": [
      "dict_values(['Ho', 'Kumasi', 'Tamale', 'Koforidua', 'Takoradi'])\n"
     ]
    }
   ],
   "source": [
    "print(region_capital.values())"
   ]
  },
  {
   "cell_type": "markdown",
   "id": "70526b3b",
   "metadata": {},
   "source": [
    "### Q8\n",
    "\n",
    "`values = [3,4,5,6,3,4,3,5,2,4,2,5,6,1,6]`\n",
    "\n",
    "Using the codes above answer the following questions:\n",
    "- What is the total number of elements in values?\n",
    "- What is the highest occuring number in the values variable?\n",
    "- Convert values into a set and store it into a variable named `values_set`\n",
    "- How many elements are in the variable values_set?\n"
   ]
  },
  {
   "cell_type": "code",
   "execution_count": 67,
   "id": "a2e0a90c",
   "metadata": {},
   "outputs": [
    {
     "data": {
      "text/plain": [
       "16"
      ]
     },
     "execution_count": 67,
     "metadata": {},
     "output_type": "execute_result"
    }
   ],
   "source": [
    "values = [3,4,5,6,3,4,3,5,2,4,2,5,6,1,6,3]\n",
    "len(values)"
   ]
  },
  {
   "cell_type": "code",
   "execution_count": 76,
   "id": "4c78bc4b",
   "metadata": {},
   "outputs": [
    {
     "name": "stdout",
     "output_type": "stream",
     "text": [
      "3\n"
     ]
    }
   ],
   "source": [
    "def most_frequent(values):\n",
    "    return max(set(values), key = values.count)\n",
    "\n",
    "print(most_frequent(values))"
   ]
  },
  {
   "cell_type": "code",
   "execution_count": 68,
   "id": "3a2e534d",
   "metadata": {},
   "outputs": [
    {
     "data": {
      "text/plain": [
       "{1, 2, 3, 4, 5, 6}"
      ]
     },
     "execution_count": 68,
     "metadata": {},
     "output_type": "execute_result"
    }
   ],
   "source": [
    "values_set = set(values)\n",
    "values_set"
   ]
  },
  {
   "cell_type": "code",
   "execution_count": 69,
   "id": "d8d306b6",
   "metadata": {},
   "outputs": [
    {
     "data": {
      "text/plain": [
       "6"
      ]
     },
     "execution_count": 69,
     "metadata": {},
     "output_type": "execute_result"
    }
   ],
   "source": [
    "len(values_set)"
   ]
  },
  {
   "cell_type": "markdown",
   "id": "801d5876",
   "metadata": {},
   "source": [
    "### Q9\n",
    "Write a Python script to print a dictionary where the keys are numbers between 1 and 15 (both included) and the values are the square of the keys."
   ]
  },
  {
   "cell_type": "code",
   "execution_count": 75,
   "id": "c38f174f",
   "metadata": {},
   "outputs": [
    {
     "name": "stdout",
     "output_type": "stream",
     "text": [
      "{1: 1, 2: 4, 3: 9, 4: 16, 5: 25, 6: 36, 7: 49, 8: 64, 9: 81, 10: 100, 11: 121, 12: 144, 13: 169, 14: 196, 15: 225}\n"
     ]
    }
   ],
   "source": [
    "    d=dict()\n",
    "for x in range(1,16):\n",
    "     d[x]=x**2\n",
    "    print(d)"
   ]
  },
  {
   "cell_type": "markdown",
   "id": "18954e57",
   "metadata": {},
   "source": [
    "### Q10\n",
    "Write a Python program to create a dictionary of keys x, y, and z where each key has as value a list from 11-20, 21-30, and 31-40 respectively. Access the fifth value of each key from the dictionary."
   ]
  },
  {
   "cell_type": "code",
   "execution_count": 77,
   "id": "fec19820",
   "metadata": {},
   "outputs": [
    {
     "name": "stdout",
     "output_type": "stream",
     "text": [
      "[z: 35\n",
      "[x: 5\n",
      "[y: 25\n"
     ]
    }
   ],
   "source": [
    "values ={\"x\",\"y\",\"z\"}\n",
    "x = {}\n",
    "for a in values:\n",
    "    if a ==\"x\":\n",
    "        x[a] = list(range(1,21))\n",
    "    elif a ==\"y\":\n",
    "        x[a] = list(range(21,30))\n",
    "    else:\n",
    "        x[a] = list(range(31,40))\n",
    "for a in values:\n",
    "    print(f\"[{a}: {x[a][4]}\")"
   ]
  },
  {
   "cell_type": "code",
   "execution_count": null,
   "id": "c8340661",
   "metadata": {},
   "outputs": [],
   "source": []
  }
 ],
 "metadata": {
  "kernelspec": {
   "display_name": "Python 3 (ipykernel)",
   "language": "python",
   "name": "python3"
  },
  "language_info": {
   "codemirror_mode": {
    "name": "ipython",
    "version": 3
   },
   "file_extension": ".py",
   "mimetype": "text/x-python",
   "name": "python",
   "nbconvert_exporter": "python",
   "pygments_lexer": "ipython3",
   "version": "3.9.13"
  }
 },
 "nbformat": 4,
 "nbformat_minor": 5
}
